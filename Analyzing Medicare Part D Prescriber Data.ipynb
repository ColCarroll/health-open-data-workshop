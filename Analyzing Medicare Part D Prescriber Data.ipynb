{
 "cells": [
  {
   "cell_type": "markdown",
   "metadata": {},
   "source": [
    "In this notebook we will explore the Medicare Part D prescribing data that was released through the CMS data portal at https://data.cms.gov/resource/4uvc-gbfz. The goal is to demonstrate how this data can be used to find prescribers who prescribe in a similar way. For a psychiatrist in Washington, D.C. we determine which prescribers prescribe most closely by computing a distance matrix based on the normalized total claims for the generic drugs a prescriber prescribed. More information about the data can be found at [Prescriber_Methods.pdf](https://data.cms.gov/api/views/4uvc-gbfz/files/9hYW-2MBrXAbhKuRXBE0AMbG7pRA5Q0MQCsDIJzlkTI?download=true&filename=Prescriber_Methods.pdf)."
   ]
  },
  {
   "cell_type": "code",
   "execution_count": 1,
   "metadata": {
    "collapsed": true
   },
   "outputs": [],
   "source": [
    "import pandas as pd"
   ]
  },
  {
   "cell_type": "code",
   "execution_count": 2,
   "metadata": {
    "collapsed": true
   },
   "outputs": [],
   "source": [
    "md_base_url = \"https://data.cms.gov/resource/4uvc-gbfz\" # URL For The Data"
   ]
  },
  {
   "cell_type": "markdown",
   "metadata": {},
   "source": [
    "The data set contains 23,650,520 rows. We are not going to pull the entire data set down but a subset of the data. The easiest is to pull down for a meaningful subset of the data. To determine which state to pull down we use the Socrata Soda API to do the computation server side."
   ]
  },
  {
   "cell_type": "code",
   "execution_count": 3,
   "metadata": {
    "collapsed": false
   },
   "outputs": [
    {
     "data": {
      "text/html": [
       "<div>\n",
       "<table border=\"1\" class=\"dataframe\">\n",
       "  <thead>\n",
       "    <tr style=\"text-align: right;\">\n",
       "      <th></th>\n",
       "      <th>count</th>\n",
       "    </tr>\n",
       "  </thead>\n",
       "  <tbody>\n",
       "    <tr>\n",
       "      <th>0</th>\n",
       "      <td>23650520</td>\n",
       "    </tr>\n",
       "  </tbody>\n",
       "</table>\n",
       "</div>"
      ],
      "text/plain": [
       "      count\n",
       "0  23650520"
      ]
     },
     "execution_count": 3,
     "metadata": {},
     "output_type": "execute_result"
    }
   ],
   "source": [
    "pd.read_json(md_base_url + \"?\" + \"$select=count(*)\")"
   ]
  },
  {
   "cell_type": "code",
   "execution_count": 4,
   "metadata": {
    "collapsed": false
   },
   "outputs": [
    {
     "data": {
      "text/html": [
       "<div>\n",
       "<table border=\"1\" class=\"dataframe\">\n",
       "  <thead>\n",
       "    <tr style=\"text-align: right;\">\n",
       "      <th></th>\n",
       "      <th>count_nppes_provider_state</th>\n",
       "      <th>nppes_provider_state</th>\n",
       "    </tr>\n",
       "  </thead>\n",
       "  <tbody>\n",
       "    <tr>\n",
       "      <th>0</th>\n",
       "      <td>49</td>\n",
       "      <td>AS</td>\n",
       "    </tr>\n",
       "    <tr>\n",
       "      <th>1</th>\n",
       "      <td>240</td>\n",
       "      <td>AE</td>\n",
       "    </tr>\n",
       "    <tr>\n",
       "      <th>2</th>\n",
       "      <td>25</td>\n",
       "      <td>XX</td>\n",
       "    </tr>\n",
       "    <tr>\n",
       "      <th>3</th>\n",
       "      <td>30</td>\n",
       "      <td>AA</td>\n",
       "    </tr>\n",
       "    <tr>\n",
       "      <th>4</th>\n",
       "      <td>95</td>\n",
       "      <td>AP</td>\n",
       "    </tr>\n",
       "    <tr>\n",
       "      <th>5</th>\n",
       "      <td>348</td>\n",
       "      <td>MP</td>\n",
       "    </tr>\n",
       "    <tr>\n",
       "      <th>6</th>\n",
       "      <td>2739</td>\n",
       "      <td>VI</td>\n",
       "    </tr>\n",
       "    <tr>\n",
       "      <th>7</th>\n",
       "      <td>1073</td>\n",
       "      <td>ZZ</td>\n",
       "    </tr>\n",
       "    <tr>\n",
       "      <th>8</th>\n",
       "      <td>1816</td>\n",
       "      <td>GU</td>\n",
       "    </tr>\n",
       "    <tr>\n",
       "      <th>10</th>\n",
       "      <td>33668</td>\n",
       "      <td>WY</td>\n",
       "    </tr>\n",
       "    <tr>\n",
       "      <th>12</th>\n",
       "      <td>39192</td>\n",
       "      <td>DC</td>\n",
       "    </tr>\n",
       "    <tr>\n",
       "      <th>26</th>\n",
       "      <td>28341</td>\n",
       "      <td>AK</td>\n",
       "    </tr>\n",
       "  </tbody>\n",
       "</table>\n",
       "</div>"
      ],
      "text/plain": [
       "    count_nppes_provider_state nppes_provider_state\n",
       "0                           49                   AS\n",
       "1                          240                   AE\n",
       "2                           25                   XX\n",
       "3                           30                   AA\n",
       "4                           95                   AP\n",
       "5                          348                   MP\n",
       "6                         2739                   VI\n",
       "7                         1073                   ZZ\n",
       "8                         1816                   GU\n",
       "10                       33668                   WY\n",
       "12                       39192                   DC\n",
       "26                       28341                   AK"
      ]
     },
     "execution_count": 4,
     "metadata": {},
     "output_type": "execute_result"
    }
   ],
   "source": [
    "by_state_df = pd.read_json(md_base_url + \"?\" + \"$select=nppes_provider_state,count(nppes_provider_state)&$group=nppes_provider_state\")\n",
    "by_state_df[by_state_df.count_nppes_provider_state < 50000]"
   ]
  },
  {
   "cell_type": "markdown",
   "metadata": {},
   "source": [
    "Socrata version 2.0 of the API has a limit of 50,000 rows. It is possible to implement a strategy using the `$limit` and `$offset` operators in their API to extract larger datasets. We will focus on extracting data for prescribers that list their location in the District of Columbia. Rather than using the `pd.read_json()` using the `requests` library will be demonstrated. This will let us see the header of the HTTP response of the request."
   ]
  },
  {
   "cell_type": "code",
   "execution_count": 5,
   "metadata": {
    "collapsed": false
   },
   "outputs": [],
   "source": [
    "import urllib\n",
    "import requests"
   ]
  },
  {
   "cell_type": "code",
   "execution_count": 6,
   "metadata": {
    "collapsed": false
   },
   "outputs": [],
   "source": [
    "where_criteria = \"nppes_provider_state = 'DC'\"\n",
    "quoted_where_criteria = urllib.quote(where_criteria)"
   ]
  },
  {
   "cell_type": "code",
   "execution_count": 7,
   "metadata": {
    "collapsed": false
   },
   "outputs": [],
   "source": [
    "prescriber_url = md_base_url + \"?$where=\" + quoted_where_criteria + \"&$limit=50000\""
   ]
  },
  {
   "cell_type": "code",
   "execution_count": 8,
   "metadata": {
    "collapsed": false
   },
   "outputs": [
    {
     "data": {
      "text/plain": [
       "'https://data.cms.gov/resource/4uvc-gbfz?$where=nppes_provider_state%20%3D%20%27DC%27&$limit=50000'"
      ]
     },
     "execution_count": 8,
     "metadata": {},
     "output_type": "execute_result"
    }
   ],
   "source": [
    "prescriber_url"
   ]
  },
  {
   "cell_type": "code",
   "execution_count": 9,
   "metadata": {
    "collapsed": false
   },
   "outputs": [],
   "source": [
    "r = requests.get(prescriber_url)"
   ]
  },
  {
   "cell_type": "code",
   "execution_count": 10,
   "metadata": {
    "collapsed": false
   },
   "outputs": [
    {
     "data": {
      "text/plain": [
       "{'X-SODA2-Warning': 'X-SODA2-Fields, X-SODA2-Types, and X-SODA2-Legacy-Types are deprecated', 'Content-Encoding': 'gzip', 'Transfer-Encoding': 'chunked', 'X-SODA2-Fields': '[\"ge65_redact_flag\",\"total_drug_cost\",\"total_claim_count\",\"bene_count_ge65_redact_flag\",\"total_claim_count_ge65\",\"npi\",\"bene_count_ge65\",\"nppes_provider_first_name\",\"nppes_provider_state\",\"nppes_provider_city\",\"total_day_supply_ge65\",\"specialty_desc\",\"nppes_provider_last_org_name\",\"total_drug_cost_ge65\",\"description_flag\",\"drug_name\",\"total_day_supply\",\"generic_name\",\"bene_count\"]', 'Age': '84', 'X-Socrata-RequestId': '31sbrr0qokeq6eolhkbvxk2ks', 'Server': 'nginx', 'X-SODA2-Legacy-Types': 'true', 'Last-Modified': 'Tue, 15 Sep 2015 17:59:54 UTC', 'Connection': 'keep-alive', 'Date': 'Wed, 18 May 2016 19:29:15 GMT', 'X-SODA2-Types': '[\"text\",\"number\",\"number\",\"text\",\"number\",\"text\",\"number\",\"text\",\"text\",\"text\",\"number\",\"text\",\"text\",\"number\",\"text\",\"text\",\"number\",\"text\",\"number\"]', 'Access-Control-Allow-Origin': '*', 'Content-Type': 'application/json; charset=utf-8', 'X-Socrata-Region': 'production'}"
      ]
     },
     "execution_count": 10,
     "metadata": {},
     "output_type": "execute_result"
    }
   ],
   "source": [
    "r.headers"
   ]
  },
  {
   "cell_type": "code",
   "execution_count": 11,
   "metadata": {
    "collapsed": true
   },
   "outputs": [],
   "source": [
    "prescriber_df = pd.read_json(r.content)"
   ]
  },
  {
   "cell_type": "code",
   "execution_count": 12,
   "metadata": {
    "collapsed": false
   },
   "outputs": [
    {
     "data": {
      "text/html": [
       "<div>\n",
       "<table border=\"1\" class=\"dataframe\">\n",
       "  <thead>\n",
       "    <tr style=\"text-align: right;\">\n",
       "      <th></th>\n",
       "      <th>bene_count</th>\n",
       "      <th>bene_count_ge65</th>\n",
       "      <th>bene_count_ge65_redact_flag</th>\n",
       "      <th>description_flag</th>\n",
       "      <th>drug_name</th>\n",
       "      <th>ge65_redact_flag</th>\n",
       "      <th>generic_name</th>\n",
       "      <th>npi</th>\n",
       "      <th>nppes_provider_city</th>\n",
       "      <th>nppes_provider_first_name</th>\n",
       "      <th>nppes_provider_last_org_name</th>\n",
       "      <th>nppes_provider_state</th>\n",
       "      <th>specialty_desc</th>\n",
       "      <th>total_claim_count</th>\n",
       "      <th>total_claim_count_ge65</th>\n",
       "      <th>total_day_supply</th>\n",
       "      <th>total_day_supply_ge65</th>\n",
       "      <th>total_drug_cost</th>\n",
       "      <th>total_drug_cost_ge65</th>\n",
       "    </tr>\n",
       "  </thead>\n",
       "  <tbody>\n",
       "    <tr>\n",
       "      <th>0</th>\n",
       "      <td>11.0</td>\n",
       "      <td>NaN</td>\n",
       "      <td>#</td>\n",
       "      <td>S</td>\n",
       "      <td>SANTYL</td>\n",
       "      <td>#</td>\n",
       "      <td>COLLAGENASE CLOSTRIDIUM HIST.</td>\n",
       "      <td>1689740086</td>\n",
       "      <td>WASHINGTON</td>\n",
       "      <td>LAILA</td>\n",
       "      <td>ALAMGIR</td>\n",
       "      <td>DC</td>\n",
       "      <td>Internal Medicine</td>\n",
       "      <td>25</td>\n",
       "      <td>NaN</td>\n",
       "      <td>152</td>\n",
       "      <td>NaN</td>\n",
       "      <td>4858.62</td>\n",
       "      <td>NaN</td>\n",
       "    </tr>\n",
       "    <tr>\n",
       "      <th>1</th>\n",
       "      <td>23.0</td>\n",
       "      <td>NaN</td>\n",
       "      <td>#</td>\n",
       "      <td>S</td>\n",
       "      <td>CLOPIDOGREL</td>\n",
       "      <td>NaN</td>\n",
       "      <td>CLOPIDOGREL BISULFATE</td>\n",
       "      <td>1811931140</td>\n",
       "      <td>WASHINGTON</td>\n",
       "      <td>MELVIN</td>\n",
       "      <td>GERALD</td>\n",
       "      <td>DC</td>\n",
       "      <td>Family Practice</td>\n",
       "      <td>134</td>\n",
       "      <td>111.0</td>\n",
       "      <td>3658</td>\n",
       "      <td>3091.0</td>\n",
       "      <td>5678.62</td>\n",
       "      <td>4991.20</td>\n",
       "    </tr>\n",
       "    <tr>\n",
       "      <th>2</th>\n",
       "      <td>NaN</td>\n",
       "      <td>0.0</td>\n",
       "      <td>NaN</td>\n",
       "      <td>S</td>\n",
       "      <td>MUPIROCIN</td>\n",
       "      <td>NaN</td>\n",
       "      <td>MUPIROCIN</td>\n",
       "      <td>1205152790</td>\n",
       "      <td>WASHINGTON</td>\n",
       "      <td>MELISSA</td>\n",
       "      <td>MUSZYNSKI</td>\n",
       "      <td>DC</td>\n",
       "      <td>Dermatology</td>\n",
       "      <td>15</td>\n",
       "      <td>0.0</td>\n",
       "      <td>360</td>\n",
       "      <td>0.0</td>\n",
       "      <td>499.46</td>\n",
       "      <td>0.00</td>\n",
       "    </tr>\n",
       "    <tr>\n",
       "      <th>3</th>\n",
       "      <td>NaN</td>\n",
       "      <td>0.0</td>\n",
       "      <td>NaN</td>\n",
       "      <td>S</td>\n",
       "      <td>JINTELI</td>\n",
       "      <td>NaN</td>\n",
       "      <td>NORETHIND AC/ETHINYL ESTRADIOL</td>\n",
       "      <td>1184939050</td>\n",
       "      <td>WASHINGTON</td>\n",
       "      <td>KRISTIE</td>\n",
       "      <td>QUARLES</td>\n",
       "      <td>DC</td>\n",
       "      <td>Nurse Practitioner</td>\n",
       "      <td>12</td>\n",
       "      <td>0.0</td>\n",
       "      <td>336</td>\n",
       "      <td>0.0</td>\n",
       "      <td>611.52</td>\n",
       "      <td>0.00</td>\n",
       "    </tr>\n",
       "    <tr>\n",
       "      <th>4</th>\n",
       "      <td>NaN</td>\n",
       "      <td>NaN</td>\n",
       "      <td>*</td>\n",
       "      <td>S</td>\n",
       "      <td>IRBESARTAN</td>\n",
       "      <td>NaN</td>\n",
       "      <td>IRBESARTAN</td>\n",
       "      <td>1518989821</td>\n",
       "      <td>WASHINGTON</td>\n",
       "      <td>ALEXANDER</td>\n",
       "      <td>CHESTER</td>\n",
       "      <td>DC</td>\n",
       "      <td>Internal Medicine</td>\n",
       "      <td>25</td>\n",
       "      <td>25.0</td>\n",
       "      <td>1530</td>\n",
       "      <td>1530.0</td>\n",
       "      <td>2115.60</td>\n",
       "      <td>2115.60</td>\n",
       "    </tr>\n",
       "    <tr>\n",
       "      <th>5</th>\n",
       "      <td>14.0</td>\n",
       "      <td>NaN</td>\n",
       "      <td>*</td>\n",
       "      <td>S</td>\n",
       "      <td>LANTUS</td>\n",
       "      <td>NaN</td>\n",
       "      <td>INSULIN GLARGINE,HUM.REC.ANLOG</td>\n",
       "      <td>1346444791</td>\n",
       "      <td>WASHINGTON</td>\n",
       "      <td>ANDREW</td>\n",
       "      <td>ROBIE</td>\n",
       "      <td>DC</td>\n",
       "      <td>Family Practice</td>\n",
       "      <td>78</td>\n",
       "      <td>40.0</td>\n",
       "      <td>2246</td>\n",
       "      <td>1140.0</td>\n",
       "      <td>17008.75</td>\n",
       "      <td>8416.64</td>\n",
       "    </tr>\n",
       "    <tr>\n",
       "      <th>6</th>\n",
       "      <td>NaN</td>\n",
       "      <td>NaN</td>\n",
       "      <td>#</td>\n",
       "      <td>S</td>\n",
       "      <td>INSULIN SYRINGE</td>\n",
       "      <td>#</td>\n",
       "      <td>SYRINGE &amp; NEEDLE,INSULIN,1 ML</td>\n",
       "      <td>1225154651</td>\n",
       "      <td>WASHINGTON</td>\n",
       "      <td>AMY</td>\n",
       "      <td>PATTEN</td>\n",
       "      <td>DC</td>\n",
       "      <td>Nurse Practitioner</td>\n",
       "      <td>26</td>\n",
       "      <td>NaN</td>\n",
       "      <td>700</td>\n",
       "      <td>NaN</td>\n",
       "      <td>576.84</td>\n",
       "      <td>NaN</td>\n",
       "    </tr>\n",
       "    <tr>\n",
       "      <th>7</th>\n",
       "      <td>NaN</td>\n",
       "      <td>NaN</td>\n",
       "      <td>*</td>\n",
       "      <td>S</td>\n",
       "      <td>CIMETIDINE</td>\n",
       "      <td>NaN</td>\n",
       "      <td>CIMETIDINE</td>\n",
       "      <td>1033202601</td>\n",
       "      <td>WASHINGTON</td>\n",
       "      <td>NIKKI</td>\n",
       "      <td>HARRIS</td>\n",
       "      <td>DC</td>\n",
       "      <td>Family Practice</td>\n",
       "      <td>12</td>\n",
       "      <td>12.0</td>\n",
       "      <td>360</td>\n",
       "      <td>360.0</td>\n",
       "      <td>63.12</td>\n",
       "      <td>63.12</td>\n",
       "    </tr>\n",
       "    <tr>\n",
       "      <th>8</th>\n",
       "      <td>NaN</td>\n",
       "      <td>NaN</td>\n",
       "      <td>*</td>\n",
       "      <td>S</td>\n",
       "      <td>SPIRONOLACTONE</td>\n",
       "      <td>NaN</td>\n",
       "      <td>SPIRONOLACTONE</td>\n",
       "      <td>1538186176</td>\n",
       "      <td>WASHINGTON</td>\n",
       "      <td>THERESA</td>\n",
       "      <td>STONE</td>\n",
       "      <td>DC</td>\n",
       "      <td>Internal Medicine</td>\n",
       "      <td>11</td>\n",
       "      <td>11.0</td>\n",
       "      <td>720</td>\n",
       "      <td>720.0</td>\n",
       "      <td>172.07</td>\n",
       "      <td>172.07</td>\n",
       "    </tr>\n",
       "    <tr>\n",
       "      <th>9</th>\n",
       "      <td>23.0</td>\n",
       "      <td>0.0</td>\n",
       "      <td>NaN</td>\n",
       "      <td>S</td>\n",
       "      <td>TRUVADA</td>\n",
       "      <td>NaN</td>\n",
       "      <td>EMTRICITABINE/TENOFOVIR</td>\n",
       "      <td>1205877131</td>\n",
       "      <td>WASHINGTON</td>\n",
       "      <td>RAVI</td>\n",
       "      <td>AJMERA</td>\n",
       "      <td>DC</td>\n",
       "      <td>Internal Medicine</td>\n",
       "      <td>114</td>\n",
       "      <td>0.0</td>\n",
       "      <td>3420</td>\n",
       "      <td>0.0</td>\n",
       "      <td>137971.22</td>\n",
       "      <td>0.00</td>\n",
       "    </tr>\n",
       "  </tbody>\n",
       "</table>\n",
       "</div>"
      ],
      "text/plain": [
       "   bene_count  bene_count_ge65 bene_count_ge65_redact_flag description_flag  \\\n",
       "0        11.0              NaN                           #                S   \n",
       "1        23.0              NaN                           #                S   \n",
       "2         NaN              0.0                         NaN                S   \n",
       "3         NaN              0.0                         NaN                S   \n",
       "4         NaN              NaN                           *                S   \n",
       "5        14.0              NaN                           *                S   \n",
       "6         NaN              NaN                           #                S   \n",
       "7         NaN              NaN                           *                S   \n",
       "8         NaN              NaN                           *                S   \n",
       "9        23.0              0.0                         NaN                S   \n",
       "\n",
       "         drug_name ge65_redact_flag                    generic_name  \\\n",
       "0           SANTYL                #   COLLAGENASE CLOSTRIDIUM HIST.   \n",
       "1      CLOPIDOGREL              NaN           CLOPIDOGREL BISULFATE   \n",
       "2        MUPIROCIN              NaN                       MUPIROCIN   \n",
       "3          JINTELI              NaN  NORETHIND AC/ETHINYL ESTRADIOL   \n",
       "4       IRBESARTAN              NaN                      IRBESARTAN   \n",
       "5           LANTUS              NaN  INSULIN GLARGINE,HUM.REC.ANLOG   \n",
       "6  INSULIN SYRINGE                #   SYRINGE & NEEDLE,INSULIN,1 ML   \n",
       "7       CIMETIDINE              NaN                      CIMETIDINE   \n",
       "8   SPIRONOLACTONE              NaN                  SPIRONOLACTONE   \n",
       "9          TRUVADA              NaN         EMTRICITABINE/TENOFOVIR   \n",
       "\n",
       "          npi nppes_provider_city nppes_provider_first_name  \\\n",
       "0  1689740086          WASHINGTON                     LAILA   \n",
       "1  1811931140          WASHINGTON                    MELVIN   \n",
       "2  1205152790          WASHINGTON                   MELISSA   \n",
       "3  1184939050          WASHINGTON                   KRISTIE   \n",
       "4  1518989821          WASHINGTON                 ALEXANDER   \n",
       "5  1346444791          WASHINGTON                    ANDREW   \n",
       "6  1225154651          WASHINGTON                       AMY   \n",
       "7  1033202601          WASHINGTON                     NIKKI   \n",
       "8  1538186176          WASHINGTON                   THERESA   \n",
       "9  1205877131          WASHINGTON                      RAVI   \n",
       "\n",
       "  nppes_provider_last_org_name nppes_provider_state      specialty_desc  \\\n",
       "0                      ALAMGIR                   DC   Internal Medicine   \n",
       "1                       GERALD                   DC     Family Practice   \n",
       "2                    MUSZYNSKI                   DC         Dermatology   \n",
       "3                      QUARLES                   DC  Nurse Practitioner   \n",
       "4                      CHESTER                   DC   Internal Medicine   \n",
       "5                        ROBIE                   DC     Family Practice   \n",
       "6                       PATTEN                   DC  Nurse Practitioner   \n",
       "7                       HARRIS                   DC     Family Practice   \n",
       "8                        STONE                   DC   Internal Medicine   \n",
       "9                       AJMERA                   DC   Internal Medicine   \n",
       "\n",
       "   total_claim_count  total_claim_count_ge65  total_day_supply  \\\n",
       "0                 25                     NaN               152   \n",
       "1                134                   111.0              3658   \n",
       "2                 15                     0.0               360   \n",
       "3                 12                     0.0               336   \n",
       "4                 25                    25.0              1530   \n",
       "5                 78                    40.0              2246   \n",
       "6                 26                     NaN               700   \n",
       "7                 12                    12.0               360   \n",
       "8                 11                    11.0               720   \n",
       "9                114                     0.0              3420   \n",
       "\n",
       "   total_day_supply_ge65  total_drug_cost  total_drug_cost_ge65  \n",
       "0                    NaN          4858.62                   NaN  \n",
       "1                 3091.0          5678.62               4991.20  \n",
       "2                    0.0           499.46                  0.00  \n",
       "3                    0.0           611.52                  0.00  \n",
       "4                 1530.0          2115.60               2115.60  \n",
       "5                 1140.0         17008.75               8416.64  \n",
       "6                    NaN           576.84                   NaN  \n",
       "7                  360.0            63.12                 63.12  \n",
       "8                  720.0           172.07                172.07  \n",
       "9                    0.0        137971.22                  0.00  "
      ]
     },
     "execution_count": 12,
     "metadata": {},
     "output_type": "execute_result"
    }
   ],
   "source": [
    "prescriber_df.head(10)"
   ]
  },
  {
   "cell_type": "code",
   "execution_count": 13,
   "metadata": {
    "collapsed": false
   },
   "outputs": [],
   "source": [
    "prescriber_df = prescriber_df.sort_values(by=[\"specialty_desc\",\"npi\",\"drug_name\"])"
   ]
  },
  {
   "cell_type": "markdown",
   "metadata": {},
   "source": [
    "A prescriber is identified by the NPI (National Provider Identifier). The NPI is a 10 digit number. We will use the Bloom API as an example of what information is linked to the NPI for a prescriber. This NPI associated data is self reported by the provider. When a provider writes a prescription and the prescription is filled by a patient the NPI and the drug prescribed is recorded in the Medicare Claim's database. This data was aggregated over calendar year 2013 to form the underlying database.  This allows us to connect what drugs the prescriber prescribed to Medicare members. A prescriber may prescribe to other patients not in Medicare. This data is not in this data set. Also to protect the privacy of individuals only drugs with more than 11 claims during the year are included in this data set."
   ]
  },
  {
   "cell_type": "code",
   "execution_count": 14,
   "metadata": {
    "collapsed": false
   },
   "outputs": [
    {
     "data": {
      "text/plain": [
       "{u'meta': {u'messages': [u\"Warning: Use of the dataset, 'usgov.hhs.npi', without an API key is for development-use only. Use of this API without a key is rate-limited. For hosted, production access, please email 'support@bloomapi.com' for an API key.\"],\n",
       "  u'rowCount': u'1'},\n",
       " u'result': [{u'business_address': {u'address_line': u'1221 TAYLOR ST NW',\n",
       "    u'city': u'WASHINGTON',\n",
       "    u'country_code': u'US',\n",
       "    u'fax': u'2022070752',\n",
       "    u'phone': u'2024649200',\n",
       "    u'state': u'DC',\n",
       "    u'zip': u'200115617'},\n",
       "   u'credential': u'M.D.',\n",
       "   u'enumeration_date': u'2008-07-16T00:00:00.000Z',\n",
       "   u'first_name': u'NAVIN',\n",
       "   u'gender': u'male',\n",
       "   u'last_name': u'REDDY',\n",
       "   u'last_update_date': u'2014-10-27T00:00:00.000Z',\n",
       "   u'name_prefix': u'DR.',\n",
       "   u'npi': u'1487818670',\n",
       "   u'other_identifiers': [{u'identifier': u'057062300',\n",
       "     u'state': u'DC',\n",
       "     u'type': u'medicaid'}],\n",
       "   u'practice_address': {u'address_details_line': u'OUTPATIENT PSYCHIATRIC',\n",
       "    u'address_line': u'1221 TAYLOR ST NW',\n",
       "    u'city': u'WASHINGTON',\n",
       "    u'country_code': u'US',\n",
       "    u'phone': u'2024649200',\n",
       "    u'state': u'DC',\n",
       "    u'zip': u'200115617'},\n",
       "   u'provider_details': [{u'healthcare_taxonomy_code': u'282N00000X',\n",
       "     u'license_number': u'04923',\n",
       "     u'license_number_state': u'CT',\n",
       "     u'taxonomy_switch': u'no'},\n",
       "    {u'healthcare_taxonomy_code': u'251S00000X',\n",
       "     u'license_number': u'MD041465',\n",
       "     u'license_number_state': u'DC',\n",
       "     u'taxonomy_switch': u'no'},\n",
       "    {u'healthcare_taxonomy_code': u'2084P0800X',\n",
       "     u'license_number': u'MD041465',\n",
       "     u'license_number_state': u'DC',\n",
       "     u'taxonomy_switch': u'yes'},\n",
       "    {u'healthcare_taxonomy_code': u'286500000X',\n",
       "     u'license_number': u'04923',\n",
       "     u'license_number_state': u'CT',\n",
       "     u'taxonomy_switch': u'no'},\n",
       "    {u'healthcare_taxonomy_code': u'282N00000X',\n",
       "     u'license_number': u'MD041465',\n",
       "     u'license_number_state': u'DC',\n",
       "     u'taxonomy_switch': u'no'}],\n",
       "   u'sole_proprietor': u'yes',\n",
       "   u'type': u'individual'}]}"
      ]
     },
     "execution_count": 14,
     "metadata": {},
     "output_type": "execute_result"
    }
   ],
   "source": [
    "r = requests.get(\"http://www.bloomapi.com/api/search?limit=10&offset=0&key1=npi&op1=eq&value1=1487818670\")\n",
    "r.json()"
   ]
  },
  {
   "cell_type": "code",
   "execution_count": 15,
   "metadata": {
    "collapsed": true
   },
   "outputs": [],
   "source": [
    "#Cached copy of the data\n",
    "#prescriber_df.to_csv(\"./data/medicare_dc_prescriber_raw_2013.csv\")\n",
    "# Uncomment last line if there are API Connection Problems\n",
    "#prescriber_df = pd.read_csv(\"./data/medicare_dc_prescriber_raw_2013.csv\")"
   ]
  },
  {
   "cell_type": "code",
   "execution_count": 16,
   "metadata": {
    "collapsed": true
   },
   "outputs": [],
   "source": [
    "import numpy as np"
   ]
  },
  {
   "cell_type": "code",
   "execution_count": 17,
   "metadata": {
    "collapsed": false
   },
   "outputs": [],
   "source": [
    "npi_drug_cross_df = pd.crosstab(prescriber_df[\"npi\"], prescriber_df[\"drug_name\"], values=prescriber_df[\"total_claim_count\"], \n",
    "                                  aggfunc=np.sum)"
   ]
  },
  {
   "cell_type": "markdown",
   "metadata": {},
   "source": [
    "If you have worked with Microsoft Excel you might be familiar with the concept of a pivot table. We want to create a dataframe where each row is a prescriber uniquely identified by their NPI and the columns of the table are the names of the drugs."
   ]
  },
  {
   "cell_type": "code",
   "execution_count": 18,
   "metadata": {
    "collapsed": false
   },
   "outputs": [
    {
     "data": {
      "text/html": [
       "<div>\n",
       "<table border=\"1\" class=\"dataframe\">\n",
       "  <thead>\n",
       "    <tr style=\"text-align: right;\">\n",
       "      <th>drug_name</th>\n",
       "      <th>ABACAVIR</th>\n",
       "      <th>ABILIFY</th>\n",
       "      <th>ABILIFY DISCMELT</th>\n",
       "      <th>ACARBOSE</th>\n",
       "      <th>ACCUPRIL</th>\n",
       "      <th>ACETAMINOPHEN-CODEINE</th>\n",
       "      <th>ACETAZOLAMIDE</th>\n",
       "      <th>ACIPHEX</th>\n",
       "      <th>ACTONEL</th>\n",
       "      <th>ACTOS</th>\n",
       "      <th>...</th>\n",
       "      <th>ZIPRASIDONE HCL</th>\n",
       "      <th>ZOCOR</th>\n",
       "      <th>ZOLOFT</th>\n",
       "      <th>ZOLPIDEM TARTRATE</th>\n",
       "      <th>ZOLPIDEM TARTRATE ER</th>\n",
       "      <th>ZONISAMIDE</th>\n",
       "      <th>ZOSTAVAX</th>\n",
       "      <th>ZYMAXID</th>\n",
       "      <th>ZYPREXA</th>\n",
       "      <th>ZYTIGA</th>\n",
       "    </tr>\n",
       "    <tr>\n",
       "      <th>npi</th>\n",
       "      <th></th>\n",
       "      <th></th>\n",
       "      <th></th>\n",
       "      <th></th>\n",
       "      <th></th>\n",
       "      <th></th>\n",
       "      <th></th>\n",
       "      <th></th>\n",
       "      <th></th>\n",
       "      <th></th>\n",
       "      <th></th>\n",
       "      <th></th>\n",
       "      <th></th>\n",
       "      <th></th>\n",
       "      <th></th>\n",
       "      <th></th>\n",
       "      <th></th>\n",
       "      <th></th>\n",
       "      <th></th>\n",
       "      <th></th>\n",
       "      <th></th>\n",
       "    </tr>\n",
       "  </thead>\n",
       "  <tbody>\n",
       "    <tr>\n",
       "      <th>1003005661</th>\n",
       "      <td>NaN</td>\n",
       "      <td>NaN</td>\n",
       "      <td>NaN</td>\n",
       "      <td>NaN</td>\n",
       "      <td>NaN</td>\n",
       "      <td>17.0</td>\n",
       "      <td>NaN</td>\n",
       "      <td>NaN</td>\n",
       "      <td>NaN</td>\n",
       "      <td>NaN</td>\n",
       "      <td>...</td>\n",
       "      <td>NaN</td>\n",
       "      <td>NaN</td>\n",
       "      <td>NaN</td>\n",
       "      <td>15.0</td>\n",
       "      <td>NaN</td>\n",
       "      <td>NaN</td>\n",
       "      <td>NaN</td>\n",
       "      <td>NaN</td>\n",
       "      <td>NaN</td>\n",
       "      <td>NaN</td>\n",
       "    </tr>\n",
       "    <tr>\n",
       "      <th>1003012063</th>\n",
       "      <td>NaN</td>\n",
       "      <td>NaN</td>\n",
       "      <td>NaN</td>\n",
       "      <td>NaN</td>\n",
       "      <td>NaN</td>\n",
       "      <td>NaN</td>\n",
       "      <td>NaN</td>\n",
       "      <td>NaN</td>\n",
       "      <td>NaN</td>\n",
       "      <td>NaN</td>\n",
       "      <td>...</td>\n",
       "      <td>NaN</td>\n",
       "      <td>NaN</td>\n",
       "      <td>NaN</td>\n",
       "      <td>NaN</td>\n",
       "      <td>NaN</td>\n",
       "      <td>NaN</td>\n",
       "      <td>NaN</td>\n",
       "      <td>NaN</td>\n",
       "      <td>NaN</td>\n",
       "      <td>NaN</td>\n",
       "    </tr>\n",
       "    <tr>\n",
       "      <th>1003042474</th>\n",
       "      <td>NaN</td>\n",
       "      <td>NaN</td>\n",
       "      <td>NaN</td>\n",
       "      <td>NaN</td>\n",
       "      <td>NaN</td>\n",
       "      <td>NaN</td>\n",
       "      <td>NaN</td>\n",
       "      <td>NaN</td>\n",
       "      <td>NaN</td>\n",
       "      <td>NaN</td>\n",
       "      <td>...</td>\n",
       "      <td>NaN</td>\n",
       "      <td>NaN</td>\n",
       "      <td>NaN</td>\n",
       "      <td>NaN</td>\n",
       "      <td>NaN</td>\n",
       "      <td>NaN</td>\n",
       "      <td>NaN</td>\n",
       "      <td>NaN</td>\n",
       "      <td>NaN</td>\n",
       "      <td>NaN</td>\n",
       "    </tr>\n",
       "    <tr>\n",
       "      <th>1003107541</th>\n",
       "      <td>NaN</td>\n",
       "      <td>NaN</td>\n",
       "      <td>NaN</td>\n",
       "      <td>NaN</td>\n",
       "      <td>NaN</td>\n",
       "      <td>NaN</td>\n",
       "      <td>NaN</td>\n",
       "      <td>NaN</td>\n",
       "      <td>NaN</td>\n",
       "      <td>NaN</td>\n",
       "      <td>...</td>\n",
       "      <td>NaN</td>\n",
       "      <td>NaN</td>\n",
       "      <td>NaN</td>\n",
       "      <td>NaN</td>\n",
       "      <td>NaN</td>\n",
       "      <td>NaN</td>\n",
       "      <td>NaN</td>\n",
       "      <td>NaN</td>\n",
       "      <td>NaN</td>\n",
       "      <td>NaN</td>\n",
       "    </tr>\n",
       "    <tr>\n",
       "      <th>1003112434</th>\n",
       "      <td>NaN</td>\n",
       "      <td>NaN</td>\n",
       "      <td>NaN</td>\n",
       "      <td>NaN</td>\n",
       "      <td>NaN</td>\n",
       "      <td>NaN</td>\n",
       "      <td>NaN</td>\n",
       "      <td>NaN</td>\n",
       "      <td>NaN</td>\n",
       "      <td>NaN</td>\n",
       "      <td>...</td>\n",
       "      <td>NaN</td>\n",
       "      <td>NaN</td>\n",
       "      <td>NaN</td>\n",
       "      <td>NaN</td>\n",
       "      <td>NaN</td>\n",
       "      <td>NaN</td>\n",
       "      <td>NaN</td>\n",
       "      <td>NaN</td>\n",
       "      <td>NaN</td>\n",
       "      <td>NaN</td>\n",
       "    </tr>\n",
       "  </tbody>\n",
       "</table>\n",
       "<p>5 rows × 1012 columns</p>\n",
       "</div>"
      ],
      "text/plain": [
       "drug_name   ABACAVIR  ABILIFY  ABILIFY DISCMELT  ACARBOSE  ACCUPRIL  \\\n",
       "npi                                                                   \n",
       "1003005661       NaN      NaN               NaN       NaN       NaN   \n",
       "1003012063       NaN      NaN               NaN       NaN       NaN   \n",
       "1003042474       NaN      NaN               NaN       NaN       NaN   \n",
       "1003107541       NaN      NaN               NaN       NaN       NaN   \n",
       "1003112434       NaN      NaN               NaN       NaN       NaN   \n",
       "\n",
       "drug_name   ACETAMINOPHEN-CODEINE  ACETAZOLAMIDE  ACIPHEX  ACTONEL  ACTOS  \\\n",
       "npi                                                                         \n",
       "1003005661                   17.0            NaN      NaN      NaN    NaN   \n",
       "1003012063                    NaN            NaN      NaN      NaN    NaN   \n",
       "1003042474                    NaN            NaN      NaN      NaN    NaN   \n",
       "1003107541                    NaN            NaN      NaN      NaN    NaN   \n",
       "1003112434                    NaN            NaN      NaN      NaN    NaN   \n",
       "\n",
       "drug_name    ...    ZIPRASIDONE HCL  ZOCOR  ZOLOFT  ZOLPIDEM TARTRATE  \\\n",
       "npi          ...                                                        \n",
       "1003005661   ...                NaN    NaN     NaN               15.0   \n",
       "1003012063   ...                NaN    NaN     NaN                NaN   \n",
       "1003042474   ...                NaN    NaN     NaN                NaN   \n",
       "1003107541   ...                NaN    NaN     NaN                NaN   \n",
       "1003112434   ...                NaN    NaN     NaN                NaN   \n",
       "\n",
       "drug_name   ZOLPIDEM TARTRATE ER  ZONISAMIDE  ZOSTAVAX  ZYMAXID  ZYPREXA  \\\n",
       "npi                                                                        \n",
       "1003005661                   NaN         NaN       NaN      NaN      NaN   \n",
       "1003012063                   NaN         NaN       NaN      NaN      NaN   \n",
       "1003042474                   NaN         NaN       NaN      NaN      NaN   \n",
       "1003107541                   NaN         NaN       NaN      NaN      NaN   \n",
       "1003112434                   NaN         NaN       NaN      NaN      NaN   \n",
       "\n",
       "drug_name   ZYTIGA  \n",
       "npi                 \n",
       "1003005661     NaN  \n",
       "1003012063     NaN  \n",
       "1003042474     NaN  \n",
       "1003107541     NaN  \n",
       "1003112434     NaN  \n",
       "\n",
       "[5 rows x 1012 columns]"
      ]
     },
     "execution_count": 18,
     "metadata": {},
     "output_type": "execute_result"
    }
   ],
   "source": [
    "npi_drug_cross_df.head(5)"
   ]
  },
  {
   "cell_type": "markdown",
   "metadata": {},
   "source": [
    "To replace the NaN (not a number) from the cells with zero the applmap method is used. Numpy has a function `isnan`. Lambda defines an anonymous function to test the cell values."
   ]
  },
  {
   "cell_type": "code",
   "execution_count": 19,
   "metadata": {
    "collapsed": false
   },
   "outputs": [],
   "source": [
    "npi_drug_cross_df = npi_drug_cross_df.applymap(lambda x: 0 if np.isnan(x) else x )"
   ]
  },
  {
   "cell_type": "markdown",
   "metadata": {},
   "source": [
    "Now it is simple to find the total number of claims for the drug Abilify."
   ]
  },
  {
   "cell_type": "code",
   "execution_count": 20,
   "metadata": {
    "collapsed": false
   },
   "outputs": [
    {
     "data": {
      "text/plain": [
       "5167.0"
      ]
     },
     "execution_count": 20,
     "metadata": {},
     "output_type": "execute_result"
    }
   ],
   "source": [
    "npi_drug_cross_df[\"ABILIFY\"].sum()"
   ]
  },
  {
   "cell_type": "markdown",
   "metadata": {},
   "source": [
    "To count the number of drugs we will add a new field called drug_count to the dataframe. Then we will use the groupby and agg methods to create a new dataframe. "
   ]
  },
  {
   "cell_type": "code",
   "execution_count": 21,
   "metadata": {
    "collapsed": true
   },
   "outputs": [],
   "source": [
    "prescriber_df[\"drug_count\"] = 1"
   ]
  },
  {
   "cell_type": "code",
   "execution_count": 22,
   "metadata": {
    "collapsed": false
   },
   "outputs": [],
   "source": [
    "prescriber_specialty_df = prescriber_df.groupby([\"npi\",\"specialty_desc\"]).agg({\"total_claim_count\": np.sum,  \"drug_count\": np.sum})"
   ]
  },
  {
   "cell_type": "markdown",
   "metadata": {
    "collapsed": true
   },
   "source": [
    "To merge the tables we need to flatten the indices."
   ]
  },
  {
   "cell_type": "code",
   "execution_count": 24,
   "metadata": {
    "collapsed": false
   },
   "outputs": [],
   "source": [
    "prescriber_specialty_df.reset_index(level=[\"npi\",\"specialty_desc\"], inplace=True)"
   ]
  },
  {
   "cell_type": "code",
   "execution_count": 25,
   "metadata": {
    "collapsed": false
   },
   "outputs": [
    {
     "data": {
      "text/html": [
       "<div>\n",
       "<table border=\"1\" class=\"dataframe\">\n",
       "  <thead>\n",
       "    <tr style=\"text-align: right;\">\n",
       "      <th></th>\n",
       "      <th>npi</th>\n",
       "      <th>specialty_desc</th>\n",
       "      <th>total_claim_count</th>\n",
       "      <th>drug_count</th>\n",
       "    </tr>\n",
       "  </thead>\n",
       "  <tbody>\n",
       "    <tr>\n",
       "      <th>0</th>\n",
       "      <td>1003005661</td>\n",
       "      <td>General Practice</td>\n",
       "      <td>1253</td>\n",
       "      <td>35</td>\n",
       "    </tr>\n",
       "    <tr>\n",
       "      <th>1</th>\n",
       "      <td>1003012063</td>\n",
       "      <td>Internal Medicine</td>\n",
       "      <td>310</td>\n",
       "      <td>14</td>\n",
       "    </tr>\n",
       "    <tr>\n",
       "      <th>2</th>\n",
       "      <td>1003042474</td>\n",
       "      <td>Emergency Medicine</td>\n",
       "      <td>73</td>\n",
       "      <td>4</td>\n",
       "    </tr>\n",
       "    <tr>\n",
       "      <th>3</th>\n",
       "      <td>1003107541</td>\n",
       "      <td>Student in an Organized Health Care Education/...</td>\n",
       "      <td>70</td>\n",
       "      <td>4</td>\n",
       "    </tr>\n",
       "    <tr>\n",
       "      <th>4</th>\n",
       "      <td>1003112434</td>\n",
       "      <td>Student in an Organized Health Care Education/...</td>\n",
       "      <td>14</td>\n",
       "      <td>1</td>\n",
       "    </tr>\n",
       "    <tr>\n",
       "      <th>5</th>\n",
       "      <td>1003125253</td>\n",
       "      <td>Psychiatry &amp; Neurology</td>\n",
       "      <td>61</td>\n",
       "      <td>3</td>\n",
       "    </tr>\n",
       "    <tr>\n",
       "      <th>6</th>\n",
       "      <td>1003128810</td>\n",
       "      <td>Internal Medicine</td>\n",
       "      <td>11</td>\n",
       "      <td>1</td>\n",
       "    </tr>\n",
       "    <tr>\n",
       "      <th>7</th>\n",
       "      <td>1003137480</td>\n",
       "      <td>Ophthalmology</td>\n",
       "      <td>11</td>\n",
       "      <td>1</td>\n",
       "    </tr>\n",
       "    <tr>\n",
       "      <th>8</th>\n",
       "      <td>1003172446</td>\n",
       "      <td>Student in an Organized Health Care Education/...</td>\n",
       "      <td>96</td>\n",
       "      <td>6</td>\n",
       "    </tr>\n",
       "    <tr>\n",
       "      <th>9</th>\n",
       "      <td>1003179474</td>\n",
       "      <td>Student in an Organized Health Care Education/...</td>\n",
       "      <td>30</td>\n",
       "      <td>2</td>\n",
       "    </tr>\n",
       "  </tbody>\n",
       "</table>\n",
       "</div>"
      ],
      "text/plain": [
       "          npi                                     specialty_desc  \\\n",
       "0  1003005661                                   General Practice   \n",
       "1  1003012063                                  Internal Medicine   \n",
       "2  1003042474                                 Emergency Medicine   \n",
       "3  1003107541  Student in an Organized Health Care Education/...   \n",
       "4  1003112434  Student in an Organized Health Care Education/...   \n",
       "5  1003125253                             Psychiatry & Neurology   \n",
       "6  1003128810                                  Internal Medicine   \n",
       "7  1003137480                                      Ophthalmology   \n",
       "8  1003172446  Student in an Organized Health Care Education/...   \n",
       "9  1003179474  Student in an Organized Health Care Education/...   \n",
       "\n",
       "   total_claim_count  drug_count  \n",
       "0               1253          35  \n",
       "1                310          14  \n",
       "2                 73           4  \n",
       "3                 70           4  \n",
       "4                 14           1  \n",
       "5                 61           3  \n",
       "6                 11           1  \n",
       "7                 11           1  \n",
       "8                 96           6  \n",
       "9                 30           2  "
      ]
     },
     "execution_count": 25,
     "metadata": {},
     "output_type": "execute_result"
    }
   ],
   "source": [
    "prescriber_specialty_df.head(10)"
   ]
  },
  {
   "cell_type": "code",
   "execution_count": 26,
   "metadata": {
    "collapsed": false
   },
   "outputs": [],
   "source": [
    "prescriber_specialty_drugs_df = pd.merge(prescriber_specialty_df, npi_drug_cross_df.reset_index(level=[\"npi\"]), on=\"npi\")"
   ]
  },
  {
   "cell_type": "code",
   "execution_count": 27,
   "metadata": {
    "collapsed": false
   },
   "outputs": [
    {
     "data": {
      "text/html": [
       "<div>\n",
       "<table border=\"1\" class=\"dataframe\">\n",
       "  <thead>\n",
       "    <tr style=\"text-align: right;\">\n",
       "      <th></th>\n",
       "      <th>npi</th>\n",
       "      <th>specialty_desc</th>\n",
       "      <th>total_claim_count</th>\n",
       "      <th>drug_count</th>\n",
       "      <th>ABACAVIR</th>\n",
       "      <th>ABILIFY</th>\n",
       "      <th>ABILIFY DISCMELT</th>\n",
       "      <th>ACARBOSE</th>\n",
       "      <th>ACCUPRIL</th>\n",
       "      <th>ACETAMINOPHEN-CODEINE</th>\n",
       "      <th>...</th>\n",
       "      <th>ZIPRASIDONE HCL</th>\n",
       "      <th>ZOCOR</th>\n",
       "      <th>ZOLOFT</th>\n",
       "      <th>ZOLPIDEM TARTRATE</th>\n",
       "      <th>ZOLPIDEM TARTRATE ER</th>\n",
       "      <th>ZONISAMIDE</th>\n",
       "      <th>ZOSTAVAX</th>\n",
       "      <th>ZYMAXID</th>\n",
       "      <th>ZYPREXA</th>\n",
       "      <th>ZYTIGA</th>\n",
       "    </tr>\n",
       "  </thead>\n",
       "  <tbody>\n",
       "    <tr>\n",
       "      <th>0</th>\n",
       "      <td>1003005661</td>\n",
       "      <td>General Practice</td>\n",
       "      <td>1253</td>\n",
       "      <td>35</td>\n",
       "      <td>0.0</td>\n",
       "      <td>0.0</td>\n",
       "      <td>0.0</td>\n",
       "      <td>0.0</td>\n",
       "      <td>0.0</td>\n",
       "      <td>17.0</td>\n",
       "      <td>...</td>\n",
       "      <td>0.0</td>\n",
       "      <td>0.0</td>\n",
       "      <td>0.0</td>\n",
       "      <td>15.0</td>\n",
       "      <td>0.0</td>\n",
       "      <td>0.0</td>\n",
       "      <td>0.0</td>\n",
       "      <td>0.0</td>\n",
       "      <td>0.0</td>\n",
       "      <td>0.0</td>\n",
       "    </tr>\n",
       "    <tr>\n",
       "      <th>1</th>\n",
       "      <td>1003012063</td>\n",
       "      <td>Internal Medicine</td>\n",
       "      <td>310</td>\n",
       "      <td>14</td>\n",
       "      <td>0.0</td>\n",
       "      <td>0.0</td>\n",
       "      <td>0.0</td>\n",
       "      <td>0.0</td>\n",
       "      <td>0.0</td>\n",
       "      <td>0.0</td>\n",
       "      <td>...</td>\n",
       "      <td>0.0</td>\n",
       "      <td>0.0</td>\n",
       "      <td>0.0</td>\n",
       "      <td>0.0</td>\n",
       "      <td>0.0</td>\n",
       "      <td>0.0</td>\n",
       "      <td>0.0</td>\n",
       "      <td>0.0</td>\n",
       "      <td>0.0</td>\n",
       "      <td>0.0</td>\n",
       "    </tr>\n",
       "    <tr>\n",
       "      <th>2</th>\n",
       "      <td>1003042474</td>\n",
       "      <td>Emergency Medicine</td>\n",
       "      <td>73</td>\n",
       "      <td>4</td>\n",
       "      <td>0.0</td>\n",
       "      <td>0.0</td>\n",
       "      <td>0.0</td>\n",
       "      <td>0.0</td>\n",
       "      <td>0.0</td>\n",
       "      <td>0.0</td>\n",
       "      <td>...</td>\n",
       "      <td>0.0</td>\n",
       "      <td>0.0</td>\n",
       "      <td>0.0</td>\n",
       "      <td>0.0</td>\n",
       "      <td>0.0</td>\n",
       "      <td>0.0</td>\n",
       "      <td>0.0</td>\n",
       "      <td>0.0</td>\n",
       "      <td>0.0</td>\n",
       "      <td>0.0</td>\n",
       "    </tr>\n",
       "    <tr>\n",
       "      <th>3</th>\n",
       "      <td>1003107541</td>\n",
       "      <td>Student in an Organized Health Care Education/...</td>\n",
       "      <td>70</td>\n",
       "      <td>4</td>\n",
       "      <td>0.0</td>\n",
       "      <td>0.0</td>\n",
       "      <td>0.0</td>\n",
       "      <td>0.0</td>\n",
       "      <td>0.0</td>\n",
       "      <td>0.0</td>\n",
       "      <td>...</td>\n",
       "      <td>0.0</td>\n",
       "      <td>0.0</td>\n",
       "      <td>0.0</td>\n",
       "      <td>0.0</td>\n",
       "      <td>0.0</td>\n",
       "      <td>0.0</td>\n",
       "      <td>0.0</td>\n",
       "      <td>0.0</td>\n",
       "      <td>0.0</td>\n",
       "      <td>0.0</td>\n",
       "    </tr>\n",
       "    <tr>\n",
       "      <th>4</th>\n",
       "      <td>1003112434</td>\n",
       "      <td>Student in an Organized Health Care Education/...</td>\n",
       "      <td>14</td>\n",
       "      <td>1</td>\n",
       "      <td>0.0</td>\n",
       "      <td>0.0</td>\n",
       "      <td>0.0</td>\n",
       "      <td>0.0</td>\n",
       "      <td>0.0</td>\n",
       "      <td>0.0</td>\n",
       "      <td>...</td>\n",
       "      <td>0.0</td>\n",
       "      <td>0.0</td>\n",
       "      <td>0.0</td>\n",
       "      <td>0.0</td>\n",
       "      <td>0.0</td>\n",
       "      <td>0.0</td>\n",
       "      <td>0.0</td>\n",
       "      <td>0.0</td>\n",
       "      <td>0.0</td>\n",
       "      <td>0.0</td>\n",
       "    </tr>\n",
       "  </tbody>\n",
       "</table>\n",
       "<p>5 rows × 1016 columns</p>\n",
       "</div>"
      ],
      "text/plain": [
       "          npi                                     specialty_desc  \\\n",
       "0  1003005661                                   General Practice   \n",
       "1  1003012063                                  Internal Medicine   \n",
       "2  1003042474                                 Emergency Medicine   \n",
       "3  1003107541  Student in an Organized Health Care Education/...   \n",
       "4  1003112434  Student in an Organized Health Care Education/...   \n",
       "\n",
       "   total_claim_count  drug_count  ABACAVIR  ABILIFY  ABILIFY DISCMELT  \\\n",
       "0               1253          35       0.0      0.0               0.0   \n",
       "1                310          14       0.0      0.0               0.0   \n",
       "2                 73           4       0.0      0.0               0.0   \n",
       "3                 70           4       0.0      0.0               0.0   \n",
       "4                 14           1       0.0      0.0               0.0   \n",
       "\n",
       "   ACARBOSE  ACCUPRIL  ACETAMINOPHEN-CODEINE   ...    ZIPRASIDONE HCL  ZOCOR  \\\n",
       "0       0.0       0.0                   17.0   ...                0.0    0.0   \n",
       "1       0.0       0.0                    0.0   ...                0.0    0.0   \n",
       "2       0.0       0.0                    0.0   ...                0.0    0.0   \n",
       "3       0.0       0.0                    0.0   ...                0.0    0.0   \n",
       "4       0.0       0.0                    0.0   ...                0.0    0.0   \n",
       "\n",
       "   ZOLOFT  ZOLPIDEM TARTRATE  ZOLPIDEM TARTRATE ER  ZONISAMIDE  ZOSTAVAX  \\\n",
       "0     0.0               15.0                   0.0         0.0       0.0   \n",
       "1     0.0                0.0                   0.0         0.0       0.0   \n",
       "2     0.0                0.0                   0.0         0.0       0.0   \n",
       "3     0.0                0.0                   0.0         0.0       0.0   \n",
       "4     0.0                0.0                   0.0         0.0       0.0   \n",
       "\n",
       "   ZYMAXID  ZYPREXA  ZYTIGA  \n",
       "0      0.0      0.0     0.0  \n",
       "1      0.0      0.0     0.0  \n",
       "2      0.0      0.0     0.0  \n",
       "3      0.0      0.0     0.0  \n",
       "4      0.0      0.0     0.0  \n",
       "\n",
       "[5 rows x 1016 columns]"
      ]
     },
     "execution_count": 27,
     "metadata": {},
     "output_type": "execute_result"
    }
   ],
   "source": [
    "prescriber_specialty_drugs_df.head(5)"
   ]
  },
  {
   "cell_type": "markdown",
   "metadata": {},
   "source": [
    "Next we will show that different medical specialties prescribe different numbers of drugs. We expect that internal medicine which see a large number of different patients will prescribe the most number of drugs compared to a specialized field such as psychiatry."
   ]
  },
  {
   "cell_type": "code",
   "execution_count": 28,
   "metadata": {
    "collapsed": true
   },
   "outputs": [],
   "source": [
    "import seaborn as sb"
   ]
  },
  {
   "cell_type": "code",
   "execution_count": 29,
   "metadata": {
    "collapsed": true
   },
   "outputs": [],
   "source": [
    "%matplotlib inline"
   ]
  },
  {
   "cell_type": "code",
   "execution_count": 30,
   "metadata": {
    "collapsed": false
   },
   "outputs": [
    {
     "data": {
      "text/plain": [
       "<matplotlib.axes._subplots.AxesSubplot at 0x106b0a20>"
      ]
     },
     "execution_count": 30,
     "metadata": {},
     "output_type": "execute_result"
    },
    {
     "data": {
      "image/png": "[encoded data removed]",
      "text/plain": [
       "<matplotlib.figure.Figure at 0x10620f98>"
      ]
     },
     "metadata": {},
     "output_type": "display_data"
    }
   ],
   "source": [
    "sb.boxplot(x=\"specialty_desc\", y=\"drug_count\", \n",
    "           data=prescriber_specialty_drugs_df[(prescriber_specialty_drugs_df[\"specialty_desc\"] == \"Cardiology\") |\n",
    "           (prescriber_specialty_drugs_df[\"specialty_desc\"] == \"Internal Medicine\") |\n",
    "           (prescriber_specialty_drugs_df[\"specialty_desc\"] == \"Psychiatry & Neurology\")]\n",
    "          )"
   ]
  },
  {
   "cell_type": "markdown",
   "metadata": {},
   "source": [
    "Next we will build the dataframes and corresponding matrices to compute the euclidean distance between two Medicare prescribers in DC. Rather than creating a crosstab by `\"drug_name\"` we will use the `\"generic_name\"`. The branded drug Abilify has the generic name of ARIPiprazole. A great tool for understanding the relationship between active ingredients, generic name and branded product is [RxNav](https://rxnav.nlm.nih.gov/)."
   ]
  },
  {
   "cell_type": "code",
   "execution_count": 31,
   "metadata": {
    "collapsed": true
   },
   "outputs": [],
   "source": [
    "npi_generic_cross_df = pd.crosstab(prescriber_df[\"npi\"], prescriber_df[\"generic_name\"], values=prescriber_df[\"total_claim_count\"], \n",
    "                                  aggfunc=np.sum)"
   ]
  },
  {
   "cell_type": "code",
   "execution_count": 32,
   "metadata": {
    "collapsed": true
   },
   "outputs": [],
   "source": [
    "npi_generic_cross_df = npi_generic_cross_df.applymap(lambda x: 0 if np.isnan(x) else x )"
   ]
  },
  {
   "cell_type": "code",
   "execution_count": 33,
   "metadata": {
    "collapsed": false
   },
   "outputs": [
    {
     "data": {
      "text/html": [
       "<div>\n",
       "<table border=\"1\" class=\"dataframe\">\n",
       "  <thead>\n",
       "    <tr style=\"text-align: right;\">\n",
       "      <th>generic_name</th>\n",
       "      <th>0.9 % SODIUM CHLORIDE</th>\n",
       "      <th>ABACAVIR SULFATE</th>\n",
       "      <th>ABACAVIR SULFATE/LAMIVUDINE</th>\n",
       "      <th>ABACAVIR/LAMIVUDINE/ZIDOVUDINE</th>\n",
       "      <th>ABATACEPT</th>\n",
       "      <th>ABIRATERONE ACETATE</th>\n",
       "      <th>ACARBOSE</th>\n",
       "      <th>ACETAMINOPHEN WITH CODEINE</th>\n",
       "      <th>ACETAZOLAMIDE</th>\n",
       "      <th>ACITRETIN</th>\n",
       "      <th>...</th>\n",
       "      <th>VILAZODONE HYDROCHLORIDE</th>\n",
       "      <th>WARFARIN SODIUM</th>\n",
       "      <th>ZAFIRLUKAST</th>\n",
       "      <th>ZALEPLON</th>\n",
       "      <th>ZANAMIVIR</th>\n",
       "      <th>ZIDOVUDINE</th>\n",
       "      <th>ZIPRASIDONE HCL</th>\n",
       "      <th>ZOLPIDEM TARTRATE</th>\n",
       "      <th>ZONISAMIDE</th>\n",
       "      <th>ZOSTER VACCINE LIVE/PF</th>\n",
       "    </tr>\n",
       "    <tr>\n",
       "      <th>npi</th>\n",
       "      <th></th>\n",
       "      <th></th>\n",
       "      <th></th>\n",
       "      <th></th>\n",
       "      <th></th>\n",
       "      <th></th>\n",
       "      <th></th>\n",
       "      <th></th>\n",
       "      <th></th>\n",
       "      <th></th>\n",
       "      <th></th>\n",
       "      <th></th>\n",
       "      <th></th>\n",
       "      <th></th>\n",
       "      <th></th>\n",
       "      <th></th>\n",
       "      <th></th>\n",
       "      <th></th>\n",
       "      <th></th>\n",
       "      <th></th>\n",
       "      <th></th>\n",
       "    </tr>\n",
       "  </thead>\n",
       "  <tbody>\n",
       "    <tr>\n",
       "      <th>1003005661</th>\n",
       "      <td>0.0</td>\n",
       "      <td>0.0</td>\n",
       "      <td>0.0</td>\n",
       "      <td>0.0</td>\n",
       "      <td>0.0</td>\n",
       "      <td>0.0</td>\n",
       "      <td>0.0</td>\n",
       "      <td>17.0</td>\n",
       "      <td>0.0</td>\n",
       "      <td>0.0</td>\n",
       "      <td>...</td>\n",
       "      <td>0.0</td>\n",
       "      <td>0.0</td>\n",
       "      <td>0.0</td>\n",
       "      <td>0.0</td>\n",
       "      <td>0.0</td>\n",
       "      <td>0.0</td>\n",
       "      <td>0.0</td>\n",
       "      <td>15.0</td>\n",
       "      <td>0.0</td>\n",
       "      <td>0.0</td>\n",
       "    </tr>\n",
       "    <tr>\n",
       "      <th>1003012063</th>\n",
       "      <td>0.0</td>\n",
       "      <td>0.0</td>\n",
       "      <td>0.0</td>\n",
       "      <td>0.0</td>\n",
       "      <td>0.0</td>\n",
       "      <td>0.0</td>\n",
       "      <td>0.0</td>\n",
       "      <td>0.0</td>\n",
       "      <td>0.0</td>\n",
       "      <td>0.0</td>\n",
       "      <td>...</td>\n",
       "      <td>0.0</td>\n",
       "      <td>0.0</td>\n",
       "      <td>0.0</td>\n",
       "      <td>0.0</td>\n",
       "      <td>0.0</td>\n",
       "      <td>0.0</td>\n",
       "      <td>0.0</td>\n",
       "      <td>0.0</td>\n",
       "      <td>0.0</td>\n",
       "      <td>0.0</td>\n",
       "    </tr>\n",
       "    <tr>\n",
       "      <th>1003042474</th>\n",
       "      <td>0.0</td>\n",
       "      <td>0.0</td>\n",
       "      <td>0.0</td>\n",
       "      <td>0.0</td>\n",
       "      <td>0.0</td>\n",
       "      <td>0.0</td>\n",
       "      <td>0.0</td>\n",
       "      <td>0.0</td>\n",
       "      <td>0.0</td>\n",
       "      <td>0.0</td>\n",
       "      <td>...</td>\n",
       "      <td>0.0</td>\n",
       "      <td>0.0</td>\n",
       "      <td>0.0</td>\n",
       "      <td>0.0</td>\n",
       "      <td>0.0</td>\n",
       "      <td>0.0</td>\n",
       "      <td>0.0</td>\n",
       "      <td>0.0</td>\n",
       "      <td>0.0</td>\n",
       "      <td>0.0</td>\n",
       "    </tr>\n",
       "    <tr>\n",
       "      <th>1003107541</th>\n",
       "      <td>0.0</td>\n",
       "      <td>0.0</td>\n",
       "      <td>0.0</td>\n",
       "      <td>0.0</td>\n",
       "      <td>0.0</td>\n",
       "      <td>0.0</td>\n",
       "      <td>0.0</td>\n",
       "      <td>0.0</td>\n",
       "      <td>0.0</td>\n",
       "      <td>0.0</td>\n",
       "      <td>...</td>\n",
       "      <td>0.0</td>\n",
       "      <td>0.0</td>\n",
       "      <td>0.0</td>\n",
       "      <td>0.0</td>\n",
       "      <td>0.0</td>\n",
       "      <td>0.0</td>\n",
       "      <td>0.0</td>\n",
       "      <td>0.0</td>\n",
       "      <td>0.0</td>\n",
       "      <td>0.0</td>\n",
       "    </tr>\n",
       "    <tr>\n",
       "      <th>1003112434</th>\n",
       "      <td>0.0</td>\n",
       "      <td>0.0</td>\n",
       "      <td>0.0</td>\n",
       "      <td>0.0</td>\n",
       "      <td>0.0</td>\n",
       "      <td>0.0</td>\n",
       "      <td>0.0</td>\n",
       "      <td>0.0</td>\n",
       "      <td>0.0</td>\n",
       "      <td>0.0</td>\n",
       "      <td>...</td>\n",
       "      <td>0.0</td>\n",
       "      <td>0.0</td>\n",
       "      <td>0.0</td>\n",
       "      <td>0.0</td>\n",
       "      <td>0.0</td>\n",
       "      <td>0.0</td>\n",
       "      <td>0.0</td>\n",
       "      <td>0.0</td>\n",
       "      <td>0.0</td>\n",
       "      <td>0.0</td>\n",
       "    </tr>\n",
       "  </tbody>\n",
       "</table>\n",
       "<p>5 rows × 746 columns</p>\n",
       "</div>"
      ],
      "text/plain": [
       "generic_name  0.9 % SODIUM CHLORIDE  ABACAVIR SULFATE  \\\n",
       "npi                                                     \n",
       "1003005661                      0.0               0.0   \n",
       "1003012063                      0.0               0.0   \n",
       "1003042474                      0.0               0.0   \n",
       "1003107541                      0.0               0.0   \n",
       "1003112434                      0.0               0.0   \n",
       "\n",
       "generic_name  ABACAVIR SULFATE/LAMIVUDINE  ABACAVIR/LAMIVUDINE/ZIDOVUDINE  \\\n",
       "npi                                                                         \n",
       "1003005661                            0.0                             0.0   \n",
       "1003012063                            0.0                             0.0   \n",
       "1003042474                            0.0                             0.0   \n",
       "1003107541                            0.0                             0.0   \n",
       "1003112434                            0.0                             0.0   \n",
       "\n",
       "generic_name  ABATACEPT  ABIRATERONE ACETATE  ACARBOSE  \\\n",
       "npi                                                      \n",
       "1003005661          0.0                  0.0       0.0   \n",
       "1003012063          0.0                  0.0       0.0   \n",
       "1003042474          0.0                  0.0       0.0   \n",
       "1003107541          0.0                  0.0       0.0   \n",
       "1003112434          0.0                  0.0       0.0   \n",
       "\n",
       "generic_name  ACETAMINOPHEN WITH CODEINE  ACETAZOLAMIDE  ACITRETIN  \\\n",
       "npi                                                                  \n",
       "1003005661                          17.0            0.0        0.0   \n",
       "1003012063                           0.0            0.0        0.0   \n",
       "1003042474                           0.0            0.0        0.0   \n",
       "1003107541                           0.0            0.0        0.0   \n",
       "1003112434                           0.0            0.0        0.0   \n",
       "\n",
       "generic_name           ...            VILAZODONE HYDROCHLORIDE  \\\n",
       "npi                    ...                                       \n",
       "1003005661             ...                                 0.0   \n",
       "1003012063             ...                                 0.0   \n",
       "1003042474             ...                                 0.0   \n",
       "1003107541             ...                                 0.0   \n",
       "1003112434             ...                                 0.0   \n",
       "\n",
       "generic_name  WARFARIN SODIUM  ZAFIRLUKAST  ZALEPLON  ZANAMIVIR  ZIDOVUDINE  \\\n",
       "npi                                                                           \n",
       "1003005661                0.0          0.0       0.0        0.0         0.0   \n",
       "1003012063                0.0          0.0       0.0        0.0         0.0   \n",
       "1003042474                0.0          0.0       0.0        0.0         0.0   \n",
       "1003107541                0.0          0.0       0.0        0.0         0.0   \n",
       "1003112434                0.0          0.0       0.0        0.0         0.0   \n",
       "\n",
       "generic_name  ZIPRASIDONE HCL  ZOLPIDEM TARTRATE  ZONISAMIDE  \\\n",
       "npi                                                            \n",
       "1003005661                0.0               15.0         0.0   \n",
       "1003012063                0.0                0.0         0.0   \n",
       "1003042474                0.0                0.0         0.0   \n",
       "1003107541                0.0                0.0         0.0   \n",
       "1003112434                0.0                0.0         0.0   \n",
       "\n",
       "generic_name  ZOSTER VACCINE LIVE/PF  \n",
       "npi                                   \n",
       "1003005661                       0.0  \n",
       "1003012063                       0.0  \n",
       "1003042474                       0.0  \n",
       "1003107541                       0.0  \n",
       "1003112434                       0.0  \n",
       "\n",
       "[5 rows x 746 columns]"
      ]
     },
     "execution_count": 33,
     "metadata": {},
     "output_type": "execute_result"
    }
   ],
   "source": [
    "npi_generic_cross_df.head(5)"
   ]
  },
  {
   "cell_type": "code",
   "execution_count": 34,
   "metadata": {
    "collapsed": false
   },
   "outputs": [
    {
     "data": {
      "text/plain": [
       "Index([u'0.9 % SODIUM CHLORIDE', u'ABACAVIR SULFATE',\n",
       "       u'ABACAVIR SULFATE/LAMIVUDINE', u'ABACAVIR/LAMIVUDINE/ZIDOVUDINE',\n",
       "       u'ABATACEPT', u'ABIRATERONE ACETATE', u'ACARBOSE',\n",
       "       u'ACETAMINOPHEN WITH CODEINE', u'ACETAZOLAMIDE', u'ACITRETIN',\n",
       "       ...\n",
       "       u'VILAZODONE HYDROCHLORIDE', u'WARFARIN SODIUM', u'ZAFIRLUKAST',\n",
       "       u'ZALEPLON', u'ZANAMIVIR', u'ZIDOVUDINE', u'ZIPRASIDONE HCL',\n",
       "       u'ZOLPIDEM TARTRATE', u'ZONISAMIDE', u'ZOSTER VACCINE LIVE/PF'],\n",
       "      dtype='object', name=u'generic_name', length=746)"
      ]
     },
     "execution_count": 34,
     "metadata": {},
     "output_type": "execute_result"
    }
   ],
   "source": [
    "npi_generic_cross_df.columns"
   ]
  },
  {
   "cell_type": "code",
   "execution_count": 35,
   "metadata": {
    "collapsed": true
   },
   "outputs": [],
   "source": [
    "prescriber_specialty_generic_df = pd.merge(prescriber_specialty_df, npi_generic_cross_df.reset_index(level=[\"npi\"]), on=\"npi\")"
   ]
  },
  {
   "cell_type": "code",
   "execution_count": 36,
   "metadata": {
    "collapsed": false
   },
   "outputs": [
    {
     "data": {
      "text/html": [
       "<div>\n",
       "<table border=\"1\" class=\"dataframe\">\n",
       "  <thead>\n",
       "    <tr style=\"text-align: right;\">\n",
       "      <th></th>\n",
       "      <th>npi</th>\n",
       "      <th>specialty_desc</th>\n",
       "      <th>total_claim_count</th>\n",
       "      <th>drug_count</th>\n",
       "      <th>0.9 % SODIUM CHLORIDE</th>\n",
       "      <th>ABACAVIR SULFATE</th>\n",
       "      <th>ABACAVIR SULFATE/LAMIVUDINE</th>\n",
       "      <th>ABACAVIR/LAMIVUDINE/ZIDOVUDINE</th>\n",
       "      <th>ABATACEPT</th>\n",
       "      <th>ABIRATERONE ACETATE</th>\n",
       "      <th>...</th>\n",
       "      <th>VILAZODONE HYDROCHLORIDE</th>\n",
       "      <th>WARFARIN SODIUM</th>\n",
       "      <th>ZAFIRLUKAST</th>\n",
       "      <th>ZALEPLON</th>\n",
       "      <th>ZANAMIVIR</th>\n",
       "      <th>ZIDOVUDINE</th>\n",
       "      <th>ZIPRASIDONE HCL</th>\n",
       "      <th>ZOLPIDEM TARTRATE</th>\n",
       "      <th>ZONISAMIDE</th>\n",
       "      <th>ZOSTER VACCINE LIVE/PF</th>\n",
       "    </tr>\n",
       "  </thead>\n",
       "  <tbody>\n",
       "    <tr>\n",
       "      <th>0</th>\n",
       "      <td>1003005661</td>\n",
       "      <td>General Practice</td>\n",
       "      <td>1253</td>\n",
       "      <td>35</td>\n",
       "      <td>0.0</td>\n",
       "      <td>0.0</td>\n",
       "      <td>0.0</td>\n",
       "      <td>0.0</td>\n",
       "      <td>0.0</td>\n",
       "      <td>0.0</td>\n",
       "      <td>...</td>\n",
       "      <td>0.0</td>\n",
       "      <td>0.0</td>\n",
       "      <td>0.0</td>\n",
       "      <td>0.0</td>\n",
       "      <td>0.0</td>\n",
       "      <td>0.0</td>\n",
       "      <td>0.0</td>\n",
       "      <td>15.0</td>\n",
       "      <td>0.0</td>\n",
       "      <td>0.0</td>\n",
       "    </tr>\n",
       "    <tr>\n",
       "      <th>1</th>\n",
       "      <td>1003012063</td>\n",
       "      <td>Internal Medicine</td>\n",
       "      <td>310</td>\n",
       "      <td>14</td>\n",
       "      <td>0.0</td>\n",
       "      <td>0.0</td>\n",
       "      <td>0.0</td>\n",
       "      <td>0.0</td>\n",
       "      <td>0.0</td>\n",
       "      <td>0.0</td>\n",
       "      <td>...</td>\n",
       "      <td>0.0</td>\n",
       "      <td>0.0</td>\n",
       "      <td>0.0</td>\n",
       "      <td>0.0</td>\n",
       "      <td>0.0</td>\n",
       "      <td>0.0</td>\n",
       "      <td>0.0</td>\n",
       "      <td>0.0</td>\n",
       "      <td>0.0</td>\n",
       "      <td>0.0</td>\n",
       "    </tr>\n",
       "    <tr>\n",
       "      <th>2</th>\n",
       "      <td>1003042474</td>\n",
       "      <td>Emergency Medicine</td>\n",
       "      <td>73</td>\n",
       "      <td>4</td>\n",
       "      <td>0.0</td>\n",
       "      <td>0.0</td>\n",
       "      <td>0.0</td>\n",
       "      <td>0.0</td>\n",
       "      <td>0.0</td>\n",
       "      <td>0.0</td>\n",
       "      <td>...</td>\n",
       "      <td>0.0</td>\n",
       "      <td>0.0</td>\n",
       "      <td>0.0</td>\n",
       "      <td>0.0</td>\n",
       "      <td>0.0</td>\n",
       "      <td>0.0</td>\n",
       "      <td>0.0</td>\n",
       "      <td>0.0</td>\n",
       "      <td>0.0</td>\n",
       "      <td>0.0</td>\n",
       "    </tr>\n",
       "    <tr>\n",
       "      <th>3</th>\n",
       "      <td>1003107541</td>\n",
       "      <td>Student in an Organized Health Care Education/...</td>\n",
       "      <td>70</td>\n",
       "      <td>4</td>\n",
       "      <td>0.0</td>\n",
       "      <td>0.0</td>\n",
       "      <td>0.0</td>\n",
       "      <td>0.0</td>\n",
       "      <td>0.0</td>\n",
       "      <td>0.0</td>\n",
       "      <td>...</td>\n",
       "      <td>0.0</td>\n",
       "      <td>0.0</td>\n",
       "      <td>0.0</td>\n",
       "      <td>0.0</td>\n",
       "      <td>0.0</td>\n",
       "      <td>0.0</td>\n",
       "      <td>0.0</td>\n",
       "      <td>0.0</td>\n",
       "      <td>0.0</td>\n",
       "      <td>0.0</td>\n",
       "    </tr>\n",
       "    <tr>\n",
       "      <th>4</th>\n",
       "      <td>1003112434</td>\n",
       "      <td>Student in an Organized Health Care Education/...</td>\n",
       "      <td>14</td>\n",
       "      <td>1</td>\n",
       "      <td>0.0</td>\n",
       "      <td>0.0</td>\n",
       "      <td>0.0</td>\n",
       "      <td>0.0</td>\n",
       "      <td>0.0</td>\n",
       "      <td>0.0</td>\n",
       "      <td>...</td>\n",
       "      <td>0.0</td>\n",
       "      <td>0.0</td>\n",
       "      <td>0.0</td>\n",
       "      <td>0.0</td>\n",
       "      <td>0.0</td>\n",
       "      <td>0.0</td>\n",
       "      <td>0.0</td>\n",
       "      <td>0.0</td>\n",
       "      <td>0.0</td>\n",
       "      <td>0.0</td>\n",
       "    </tr>\n",
       "  </tbody>\n",
       "</table>\n",
       "<p>5 rows × 750 columns</p>\n",
       "</div>"
      ],
      "text/plain": [
       "          npi                                     specialty_desc  \\\n",
       "0  1003005661                                   General Practice   \n",
       "1  1003012063                                  Internal Medicine   \n",
       "2  1003042474                                 Emergency Medicine   \n",
       "3  1003107541  Student in an Organized Health Care Education/...   \n",
       "4  1003112434  Student in an Organized Health Care Education/...   \n",
       "\n",
       "   total_claim_count  drug_count  0.9 % SODIUM CHLORIDE  ABACAVIR SULFATE  \\\n",
       "0               1253          35                    0.0               0.0   \n",
       "1                310          14                    0.0               0.0   \n",
       "2                 73           4                    0.0               0.0   \n",
       "3                 70           4                    0.0               0.0   \n",
       "4                 14           1                    0.0               0.0   \n",
       "\n",
       "   ABACAVIR SULFATE/LAMIVUDINE  ABACAVIR/LAMIVUDINE/ZIDOVUDINE  ABATACEPT  \\\n",
       "0                          0.0                             0.0        0.0   \n",
       "1                          0.0                             0.0        0.0   \n",
       "2                          0.0                             0.0        0.0   \n",
       "3                          0.0                             0.0        0.0   \n",
       "4                          0.0                             0.0        0.0   \n",
       "\n",
       "   ABIRATERONE ACETATE           ...            VILAZODONE HYDROCHLORIDE  \\\n",
       "0                  0.0           ...                                 0.0   \n",
       "1                  0.0           ...                                 0.0   \n",
       "2                  0.0           ...                                 0.0   \n",
       "3                  0.0           ...                                 0.0   \n",
       "4                  0.0           ...                                 0.0   \n",
       "\n",
       "   WARFARIN SODIUM  ZAFIRLUKAST  ZALEPLON  ZANAMIVIR  ZIDOVUDINE  \\\n",
       "0              0.0          0.0       0.0        0.0         0.0   \n",
       "1              0.0          0.0       0.0        0.0         0.0   \n",
       "2              0.0          0.0       0.0        0.0         0.0   \n",
       "3              0.0          0.0       0.0        0.0         0.0   \n",
       "4              0.0          0.0       0.0        0.0         0.0   \n",
       "\n",
       "   ZIPRASIDONE HCL  ZOLPIDEM TARTRATE  ZONISAMIDE  ZOSTER VACCINE LIVE/PF  \n",
       "0              0.0               15.0         0.0                     0.0  \n",
       "1              0.0                0.0         0.0                     0.0  \n",
       "2              0.0                0.0         0.0                     0.0  \n",
       "3              0.0                0.0         0.0                     0.0  \n",
       "4              0.0                0.0         0.0                     0.0  \n",
       "\n",
       "[5 rows x 750 columns]"
      ]
     },
     "execution_count": 36,
     "metadata": {},
     "output_type": "execute_result"
    }
   ],
   "source": [
    "prescriber_specialty_generic_df.head(5)"
   ]
  },
  {
   "cell_type": "code",
   "execution_count": 37,
   "metadata": {
    "collapsed": false
   },
   "outputs": [],
   "source": [
    "prescriber_specialty_generic_df = prescriber_specialty_generic_df.sort_values(by=[\"specialty_desc\", \"npi\"])"
   ]
  },
  {
   "cell_type": "markdown",
   "metadata": {},
   "source": [
    "We will shift from using the Pandas dataframe object to the `\"numpy.array\"`. We need to slice off the columns that are not related to the number of filled prescriptions. We need an array to compute the euclidean distance between each prescriber."
   ]
  },
  {
   "cell_type": "code",
   "execution_count": 38,
   "metadata": {
    "collapsed": false
   },
   "outputs": [],
   "source": [
    "pf_matrix = prescriber_specialty_generic_df.iloc[: , 4: ].as_matrix()"
   ]
  },
  {
   "cell_type": "code",
   "execution_count": 39,
   "metadata": {
    "collapsed": false
   },
   "outputs": [
    {
     "data": {
      "text/plain": [
       "(2519L, 746L)"
      ]
     },
     "execution_count": 39,
     "metadata": {},
     "output_type": "execute_result"
    }
   ],
   "source": [
    "pf_matrix.shape"
   ]
  },
  {
   "cell_type": "code",
   "execution_count": 40,
   "metadata": {
    "collapsed": false
   },
   "outputs": [],
   "source": [
    "identifiers_matrix = prescriber_specialty_df.iloc[:,0:2].as_matrix()"
   ]
  },
  {
   "cell_type": "code",
   "execution_count": 41,
   "metadata": {
    "collapsed": false
   },
   "outputs": [],
   "source": [
    "generic_array = prescriber_specialty_generic_df.columns[4:]"
   ]
  },
  {
   "cell_type": "code",
   "execution_count": 42,
   "metadata": {
    "collapsed": true
   },
   "outputs": [],
   "source": [
    "import scipy.spatial"
   ]
  },
  {
   "cell_type": "code",
   "execution_count": 43,
   "metadata": {
    "collapsed": false
   },
   "outputs": [],
   "source": [
    "normalized_pf_matrix = pf_matrix / np.reshape(np.sum(pf_matrix,1), (pf_matrix.shape[0],1))"
   ]
  },
  {
   "cell_type": "code",
   "execution_count": 44,
   "metadata": {
    "collapsed": false
   },
   "outputs": [
    {
     "data": {
      "text/plain": [
       "(2519L, 746L)"
      ]
     },
     "execution_count": 44,
     "metadata": {},
     "output_type": "execute_result"
    }
   ],
   "source": [
    "normalized_pf_matrix.shape"
   ]
  },
  {
   "cell_type": "code",
   "execution_count": 45,
   "metadata": {
    "collapsed": false
   },
   "outputs": [
    {
     "ename": "NameError",
     "evalue": "name 'normalized_pf_array' is not defined",
     "output_type": "error",
     "traceback": [
      "\u001b[1;31m---------------------------------------------------------------------------\u001b[0m",
      "\u001b[1;31mNameError\u001b[0m                                 Traceback (most recent call last)",
      "\u001b[1;32m<ipython-input-45-291c61fc3db7>\u001b[0m in \u001b[0;36m<module>\u001b[1;34m()\u001b[0m\n\u001b[1;32m----> 1\u001b[1;33m \u001b[0mprescriber_dist\u001b[0m \u001b[1;33m=\u001b[0m \u001b[0mscipy\u001b[0m\u001b[1;33m.\u001b[0m\u001b[0mspatial\u001b[0m\u001b[1;33m.\u001b[0m\u001b[0mdistance\u001b[0m\u001b[1;33m.\u001b[0m\u001b[0msquareform\u001b[0m\u001b[1;33m(\u001b[0m\u001b[0mscipy\u001b[0m\u001b[1;33m.\u001b[0m\u001b[0mspatial\u001b[0m\u001b[1;33m.\u001b[0m\u001b[0mdistance\u001b[0m\u001b[1;33m.\u001b[0m\u001b[0mpdist\u001b[0m\u001b[1;33m(\u001b[0m\u001b[0mnormalized_pf_array\u001b[0m\u001b[1;33m,\u001b[0m \u001b[1;34m\"euclidean\"\u001b[0m\u001b[1;33m)\u001b[0m\u001b[1;33m)\u001b[0m\u001b[1;33m\u001b[0m\u001b[0m\n\u001b[0m",
      "\u001b[1;31mNameError\u001b[0m: name 'normalized_pf_array' is not defined"
     ]
    }
   ],
   "source": [
    "prescriber_dist = scipy.spatial.distance.squareform(scipy.spatial.distance.pdist(normalized_pf_array, \"euclidean\"))"
   ]
  },
  {
   "cell_type": "code",
   "execution_count": null,
   "metadata": {
    "collapsed": false
   },
   "outputs": [],
   "source": [
    "prescriber_dist.shape"
   ]
  },
  {
   "cell_type": "code",
   "execution_count": null,
   "metadata": {
    "collapsed": false
   },
   "outputs": [],
   "source": [
    "import matplotlib.pyplot as plt"
   ]
  },
  {
   "cell_type": "code",
   "execution_count": null,
   "metadata": {
    "collapsed": false
   },
   "outputs": [],
   "source": [
    "plt.matshow(prescriber_dist)"
   ]
  },
  {
   "cell_type": "code",
   "execution_count": null,
   "metadata": {
    "collapsed": false
   },
   "outputs": [],
   "source": [
    "prescriber_dist[2010,:]"
   ]
  },
  {
   "cell_type": "code",
   "execution_count": null,
   "metadata": {
    "collapsed": false
   },
   "outputs": [],
   "source": [
    "plt.scatter(np.arange(prescriber_dist.shape[0]),prescriber_dist[2010,:])"
   ]
  },
  {
   "cell_type": "code",
   "execution_count": null,
   "metadata": {
    "collapsed": false
   },
   "outputs": [],
   "source": [
    "plt.scatter(np.arange(prescriber_dist.shape[0]),np.sort(prescriber_dist[2010,:]))"
   ]
  },
  {
   "cell_type": "code",
   "execution_count": null,
   "metadata": {
    "collapsed": false
   },
   "outputs": [],
   "source": [
    "prescriber_specialty_generic_df.iloc[2010,0:4]"
   ]
  },
  {
   "cell_type": "code",
   "execution_count": null,
   "metadata": {
    "collapsed": false
   },
   "outputs": [],
   "source": [
    "providers_sorted = np.lexsort((prescriber_dist[:,2010].tolist(),))"
   ]
  },
  {
   "cell_type": "code",
   "execution_count": null,
   "metadata": {
    "collapsed": false
   },
   "outputs": [],
   "source": [
    "prescriber_specialty_generic_df.iloc[:,0:2].as_matrix()[providers_sorted[0:40],:]"
   ]
  },
  {
   "cell_type": "code",
   "execution_count": null,
   "metadata": {
    "collapsed": true
   },
   "outputs": [],
   "source": [
    "prescriber_specialty_generic_df.iloc[:,0:2].as_matrix()[providers_sorted[0:30],:]"
   ]
  },
  {
   "cell_type": "code",
   "execution_count": null,
   "metadata": {
    "collapsed": false
   },
   "outputs": [],
   "source": [
    "np.lexsort(((-1 * pf_array[2010,:]).tolist(),))[0:17]"
   ]
  },
  {
   "cell_type": "code",
   "execution_count": null,
   "metadata": {
    "collapsed": false
   },
   "outputs": [],
   "source": [
    "generic_array[np.lexsort(((-1 * pf_array[2010,:]).tolist(),))][0:16]"
   ]
  },
  {
   "cell_type": "code",
   "execution_count": null,
   "metadata": {
    "collapsed": false
   },
   "outputs": [],
   "source": [
    "prescriber_df[prescriber_df[\"npi\"]==1487818670].sort_values(\"total_claim_count\", ascending=False)"
   ]
  },
  {
   "cell_type": "code",
   "execution_count": null,
   "metadata": {
    "collapsed": false
   },
   "outputs": [],
   "source": [
    "prescriber_specialty_drugs_df.groupby(\"specialty_desc\").agg({\"specialty_desc\": np.size}).sort_values(\"specialty_desc\", ascending=False)"
   ]
  },
  {
   "cell_type": "code",
   "execution_count": null,
   "metadata": {
    "collapsed": true
   },
   "outputs": [],
   "source": [
    "prescriber_specialty_drugs_df.to_csv(\"./data/medicare_dc_providers_generic_prescribing_2013.csv\")"
   ]
  },
  {
   "cell_type": "code",
   "execution_count": null,
   "metadata": {
    "collapsed": true
   },
   "outputs": [],
   "source": [
    "import h5py"
   ]
  },
  {
   "cell_type": "code",
   "execution_count": null,
   "metadata": {
    "collapsed": true
   },
   "outputs": [],
   "source": [
    "f5 = h5py.File(\"./data/medicare_dc_prescriber_matrix_2013.hdf5\", \"w\")"
   ]
  },
  {
   "cell_type": "code",
   "execution_count": null,
   "metadata": {
    "collapsed": false
   },
   "outputs": [],
   "source": [
    "ds_raw_count = f5.create_dataset(\"/generic/raw_counts/core_array/\", shape=pf_matrix.shape, dtype=pf_matrix.dtype)\n",
    "ds_normalized = f5.create_dataset(\"/generic/normalized/core_array/\", shape=normalized_pf_matrix.shape, dtype=normalized_pf_matrix.dtype)\n",
    "ds_identifiers = f5.create_dataset(\"/prescriber/identifiers/\", shape=identifiers_matrix.shape, dtype=\"S128\")\n",
    "ds_generic_name = f5.create_dataset(\"/generic/names\", shape=generic_array.shape, dtype=\"S128\")"
   ]
  },
  {
   "cell_type": "code",
   "execution_count": null,
   "metadata": {
    "collapsed": true
   },
   "outputs": [],
   "source": [
    "ds_core[...] = pf_array\n",
    "ds_normalized[...] = normalized_pf_array"
   ]
  },
  {
   "cell_type": "code",
   "execution_count": null,
   "metadata": {
    "collapsed": true
   },
   "outputs": [],
   "source": [
    "ds_identifiers[...] = np.array(identifiers_matrix.tolist(), dtype=\"S128\")"
   ]
  },
  {
   "cell_type": "code",
   "execution_count": null,
   "metadata": {
    "collapsed": true
   },
   "outputs": [],
   "source": [
    "ds_generic_name[...] = np.array(generic_array.tolist(), dtype=\"S128\")"
   ]
  },
  {
   "cell_type": "code",
   "execution_count": null,
   "metadata": {
    "collapsed": true
   },
   "outputs": [],
   "source": [
    "f5.close()"
   ]
  },
  {
   "cell_type": "code",
   "execution_count": null,
   "metadata": {
    "collapsed": false
   },
   "outputs": [],
   "source": [
    "np.array(generic_array.tolist(), dtype=\"S128\")[0:20]"
   ]
  },
  {
   "cell_type": "code",
   "execution_count": null,
   "metadata": {
    "collapsed": false
   },
   "outputs": [],
   "source": [
    "pd.read_json(\"https://data.medicare.gov/resource/3uxj-hea6?NPI=1487818670\")"
   ]
  },
  {
   "cell_type": "code",
   "execution_count": null,
   "metadata": {
    "collapsed": false
   },
   "outputs": [],
   "source": [
    "npi_with_distance = pd.DataFrame({\"dist\": prescriber_dist[2010,:], \"npi\": prescriber_specialty_generic_df[\"npi\"],  \n",
    "                                  \"specialty_desc\": prescriber_specialty_generic_df[\"specialty_desc\"]})"
   ]
  },
  {
   "cell_type": "code",
   "execution_count": null,
   "metadata": {
    "collapsed": false
   },
   "outputs": [],
   "source": [
    "details_df = pd.read_json(\"https://data.medicare.gov/resource/3uxj-hea6?NPI=1487818670\")\n",
    "for npi in npi_with_distance.sort_values(\"dist\")[\"npi\"][1:50]:\n",
    "    details_df = details_df.append(pd.read_json(\"https://data.medicare.gov/resource/3uxj-hea6?NPI=\" + str(npi)))"
   ]
  },
  {
   "cell_type": "code",
   "execution_count": null,
   "metadata": {
    "collapsed": false
   },
   "outputs": [],
   "source": [
    "details_df.head(5)"
   ]
  },
  {
   "cell_type": "code",
   "execution_count": null,
   "metadata": {
    "collapsed": false
   },
   "outputs": [],
   "source": [
    "pd.merge(details_df, npi_with_distance, on=\"npi\")"
   ]
  },
  {
   "cell_type": "code",
   "execution_count": null,
   "metadata": {
    "collapsed": true
   },
   "outputs": [],
   "source": []
  }
 ],
 "metadata": {
  "kernelspec": {
   "display_name": "Python 2",
   "language": "python",
   "name": "python2"
  },
  "language_info": {
   "codemirror_mode": {
    "name": "ipython",
    "version": 2
   },
   "file_extension": ".py",
   "mimetype": "text/x-python",
   "name": "python",
   "nbconvert_exporter": "python",
   "pygments_lexer": "ipython2",
   "version": "2.7.11"
  }
 },
 "nbformat": 4,
 "nbformat_minor": 0
}
