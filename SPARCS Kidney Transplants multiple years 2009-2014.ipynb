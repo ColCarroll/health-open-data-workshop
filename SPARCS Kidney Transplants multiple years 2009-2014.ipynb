{
 "cells": [
  {
   "cell_type": "code",
   "execution_count": 1,
   "metadata": {
    "collapsed": true
   },
   "outputs": [],
   "source": [
    "import pandas as pd"
   ]
  },
  {
   "cell_type": "code",
   "execution_count": 2,
   "metadata": {
    "collapsed": false
   },
   "outputs": [],
   "source": [
    "year_to_sparcs_key = {2009: \"q6hk-esrj\", 2010: \"mtfm-rxf4\", 2011: \"pyhr-5eas\", 2012: \"u4ud-w55t\",\n",
    "                      2013: \"npsr-cm47\", 2014: \"rmwa-zns4\"}"
   ]
  },
  {
   "cell_type": "code",
   "execution_count": 3,
   "metadata": {
    "collapsed": true
   },
   "outputs": [],
   "source": [
    "base_url = \"https://health.data.ny.gov/resource/\""
   ]
  },
  {
   "cell_type": "code",
   "execution_count": null,
   "metadata": {
    "collapsed": true
   },
   "outputs": [],
   "source": [
    "def get_df_across_multiple_files(key_dict, base_url, search_query, row_limit=10000):\n",
    "    df_dict = {} # Store df as keys\n",
    "    for key in key_dict:\n",
    "        ds_hash = key_dict[key]\n",
    "        request_url = base_url + ds_hash + \".json\" + \"?\" + search_query + \"&$limit=\" + str(row_limit)\n",
    "        print(\"Extracting %s with '%s'\" % (key, request_url))\n",
    "        df = pd.read_json(request_url)\n",
    "        df_dict[key] = df\n",
    "    return df_dict"
   ]
  },
  {
   "cell_type": "code",
   "execution_count": null,
   "metadata": {
    "collapsed": false
   },
   "outputs": [
    {
     "name": "stdout",
     "output_type": "stream",
     "text": [
      "Extracting 2009 with 'https://health.data.ny.gov/resource/q6hk-esrj.json?ccs_procedure_code=105&$limit=10000'\n",
      "Extracting 2010 with 'https://health.data.ny.gov/resource/mtfm-rxf4.json?ccs_procedure_code=105&$limit=10000'\n",
      "Extracting 2011 with 'https://health.data.ny.gov/resource/pyhr-5eas.json?ccs_procedure_code=105&$limit=10000'\n",
      "Extracting 2012 with 'https://health.data.ny.gov/resource/u4ud-w55t.json?ccs_procedure_code=105&$limit=10000'\n",
      "Extracting 2013 with 'https://health.data.ny.gov/resource/npsr-cm47.json?ccs_procedure_code=105&$limit=10000'\n",
      "Extracting 2014 with 'https://health.data.ny.gov/resource/rmwa-zns4.json?ccs_procedure_code=105&$limit=10000'\n"
     ]
    }
   ],
   "source": [
    "kd_df_dicts = get_df_across_multiple_files(year_to_sparcs_key, base_url, \"ccs_procedure_code=105\")"
   ]
  },
  {
   "cell_type": "code",
   "execution_count": null,
   "metadata": {
    "collapsed": true
   },
   "outputs": [],
   "source": [
    "def create_single_df_from_df_dict(df_dict, key_name):\n",
    "    \"\"\"Build a single dataframe that that has a new field called key_name with the key values in df_dict\"\"\"\n",
    "    df_keys = df_dict.keys()\n",
    "    base_df = df_dict[df_keys[0]]\n",
    "    base_df[key_name] = df_keys[0]\n",
    "    for df_key in df_keys[1:]:\n",
    "        df = df_dict[df_key]\n",
    "        df[key_name] = df_key\n",
    "        base_df = base_df.append(df, ignore_index=True)\n",
    "    return base_df"
   ]
  },
  {
   "cell_type": "code",
   "execution_count": null,
   "metadata": {
    "collapsed": true
   },
   "outputs": [],
   "source": [
    "kidney_cy_09_14 = create_single_df_from_df_dict(kd_df_dicts, \"discharge_year\")"
   ]
  },
  {
   "cell_type": "code",
   "execution_count": null,
   "metadata": {
    "collapsed": false
   },
   "outputs": [],
   "source": [
    "kidney_cy_09_14.discharge_year.count()"
   ]
  },
  {
   "cell_type": "code",
   "execution_count": null,
   "metadata": {
    "collapsed": false
   },
   "outputs": [],
   "source": [
    "kidney_cy_09_14.groupby(\"discharge_year\")[\"length_of_stay\"].count()"
   ]
  },
  {
   "cell_type": "code",
   "execution_count": null,
   "metadata": {
    "collapsed": false
   },
   "outputs": [],
   "source": [
    "kidney_cy_09_14[\"length_of_stay\"] = pd.to_numeric(kidney_cy_09_14[\"length_of_stay\"], errors='coerce')"
   ]
  },
  {
   "cell_type": "code",
   "execution_count": null,
   "metadata": {
    "collapsed": false
   },
   "outputs": [],
   "source": [
    "kidney_cy_09_14.groupby([\"facility_name\"])[\"length_of_stay\"].mean()"
   ]
  },
  {
   "cell_type": "code",
   "execution_count": null,
   "metadata": {
    "collapsed": false
   },
   "outputs": [],
   "source": [
    "kidney_cy_09_14.discharge_year.head()"
   ]
  },
  {
   "cell_type": "code",
   "execution_count": null,
   "metadata": {
    "collapsed": false
   },
   "outputs": [],
   "source": [
    "kidney_cy_09_14.apr_drg_description.head()"
   ]
  },
  {
   "cell_type": "code",
   "execution_count": null,
   "metadata": {
    "collapsed": false
   },
   "outputs": [],
   "source": [
    "kd_df_dicts[2011].length_of_stay.head()"
   ]
  },
  {
   "cell_type": "code",
   "execution_count": null,
   "metadata": {
    "collapsed": false
   },
   "outputs": [],
   "source": [
    "pd.crosstab(kidney_cy_09_14[\"facility_name\"],  kidney_cy_09_14[\"discharge_year\"], margins=True)"
   ]
  },
  {
   "cell_type": "code",
   "execution_count": null,
   "metadata": {
    "collapsed": true
   },
   "outputs": [],
   "source": [
    "import numpy as np"
   ]
  },
  {
   "cell_type": "code",
   "execution_count": null,
   "metadata": {
    "collapsed": false
   },
   "outputs": [],
   "source": [
    "pd.crosstab(kidney_cy_09_14[\"facility_name\"],  kidney_cy_09_14[\"discharge_year\"], \n",
    "            margins=True, values=kidney_cy_09_14[\"length_of_stay\"],aggfunc=np.mean)"
   ]
  },
  {
   "cell_type": "code",
   "execution_count": null,
   "metadata": {
    "collapsed": false
   },
   "outputs": [],
   "source": [
    "pd.crosstab(kidney_cy_09_14[\"facility_name\"],  kidney_cy_09_14[\"discharge_year\"], \n",
    "            margins=True, values=kidney_cy_09_14[\"length_of_stay\"],aggfunc=np.median)"
   ]
  },
  {
   "cell_type": "code",
   "execution_count": null,
   "metadata": {
    "collapsed": true
   },
   "outputs": [],
   "source": [
    "import seaborn as sb"
   ]
  },
  {
   "cell_type": "code",
   "execution_count": null,
   "metadata": {
    "collapsed": true
   },
   "outputs": [],
   "source": [
    "%matplotlib inline"
   ]
  },
  {
   "cell_type": "code",
   "execution_count": null,
   "metadata": {
    "collapsed": false
   },
   "outputs": [],
   "source": [
    "sb.boxplot(y=\"length_of_stay\", x=\"discharge_year\", data=kidney_cy_09_14)"
   ]
  },
  {
   "cell_type": "code",
   "execution_count": null,
   "metadata": {
    "collapsed": false
   },
   "outputs": [],
   "source": [
    "sb.boxplot(y=\"length_of_stay\", x=\"discharge_year\", data=kidney_cy_09_14[kidney_cy_09_14[\"length_of_stay\"] <= 20])"
   ]
  },
  {
   "cell_type": "code",
   "execution_count": null,
   "metadata": {
    "collapsed": false
   },
   "outputs": [],
   "source": [
    "sb.violinplot(y=\"length_of_stay\", x=\"discharge_year\", data=kidney_cy_09_14[kidney_cy_09_14[\"length_of_stay\"] <= 20])"
   ]
  },
  {
   "cell_type": "code",
   "execution_count": null,
   "metadata": {
    "collapsed": true
   },
   "outputs": [],
   "source": [
    "kidney_cy_09_14.to_csv(\"./data/sparcs_ny_kidney_transplants_2009_2014.csv\")"
   ]
  },
  {
   "cell_type": "code",
   "execution_count": null,
   "metadata": {
    "collapsed": true
   },
   "outputs": [],
   "source": []
  }
 ],
 "metadata": {
  "kernelspec": {
   "display_name": "Python 2",
   "language": "python",
   "name": "python2"
  },
  "language_info": {
   "codemirror_mode": {
    "name": "ipython",
    "version": 2
   },
   "file_extension": ".py",
   "mimetype": "text/x-python",
   "name": "python",
   "nbconvert_exporter": "python",
   "pygments_lexer": "ipython2",
   "version": "2.7.11"
  }
 },
 "nbformat": 4,
 "nbformat_minor": 0
}
